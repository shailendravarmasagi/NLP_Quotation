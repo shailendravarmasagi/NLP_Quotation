{
 "cells": [
  {
   "cell_type": "code",
   "execution_count": 1,
   "metadata": {},
   "outputs": [],
   "source": [
    "import pandas as pd"
   ]
  },
  {
   "cell_type": "code",
   "execution_count": 2,
   "metadata": {},
   "outputs": [],
   "source": [
    "from pandas import ExcelWriter\n",
    "from pandas import ExcelFile"
   ]
  },
  {
   "cell_type": "code",
   "execution_count": 3,
   "metadata": {},
   "outputs": [],
   "source": [
    "import re"
   ]
  },
  {
   "cell_type": "code",
   "execution_count": 4,
   "metadata": {},
   "outputs": [],
   "source": [
    "df_Quotes = pd.read_excel('C:\\\\Users\\\\slice\\\\NLP POC\\\\NLP_Quotation\\\\Input\\\\Quotes.xlsx')"
   ]
  },
  {
   "cell_type": "code",
   "execution_count": 5,
   "metadata": {},
   "outputs": [
    {
     "data": {
      "text/html": [
       "<div>\n",
       "<style scoped>\n",
       "    .dataframe tbody tr th:only-of-type {\n",
       "        vertical-align: middle;\n",
       "    }\n",
       "\n",
       "    .dataframe tbody tr th {\n",
       "        vertical-align: top;\n",
       "    }\n",
       "\n",
       "    .dataframe thead th {\n",
       "        text-align: right;\n",
       "    }\n",
       "</style>\n",
       "<table border=\"1\" class=\"dataframe\">\n",
       "  <thead>\n",
       "    <tr style=\"text-align: right;\">\n",
       "      <th></th>\n",
       "      <th>Item No</th>\n",
       "      <th>Description</th>\n",
       "      <th>Count</th>\n",
       "      <th>Quote Sent</th>\n",
       "    </tr>\n",
       "  </thead>\n",
       "  <tbody>\n",
       "    <tr>\n",
       "      <td>0</td>\n",
       "      <td>1</td>\n",
       "      <td>Graphite Stick Pencils – Black – b2</td>\n",
       "      <td>1000</td>\n",
       "      <td>1100</td>\n",
       "    </tr>\n",
       "    <tr>\n",
       "      <td>1</td>\n",
       "      <td>2</td>\n",
       "      <td>Graphite Stick Pencils – Red – b2</td>\n",
       "      <td>1500</td>\n",
       "      <td>1100</td>\n",
       "    </tr>\n",
       "    <tr>\n",
       "      <td>2</td>\n",
       "      <td>3</td>\n",
       "      <td>Charcoal Pencils – Black</td>\n",
       "      <td>2500</td>\n",
       "      <td>1100</td>\n",
       "    </tr>\n",
       "    <tr>\n",
       "      <td>3</td>\n",
       "      <td>4</td>\n",
       "      <td>Color Pencils – Yellow</td>\n",
       "      <td>3000</td>\n",
       "      <td>1100</td>\n",
       "    </tr>\n",
       "    <tr>\n",
       "      <td>4</td>\n",
       "      <td>5</td>\n",
       "      <td>Graphite Stick Pencils – Black – b2</td>\n",
       "      <td>1000</td>\n",
       "      <td>1101</td>\n",
       "    </tr>\n",
       "    <tr>\n",
       "      <td>5</td>\n",
       "      <td>6</td>\n",
       "      <td>Graphite Stick Pencils – Red – b2</td>\n",
       "      <td>1500</td>\n",
       "      <td>1101</td>\n",
       "    </tr>\n",
       "  </tbody>\n",
       "</table>\n",
       "</div>"
      ],
      "text/plain": [
       "   Item No                          Description  Count  Quote Sent\n",
       "0        1  Graphite Stick Pencils – Black – b2   1000        1100\n",
       "1        2    Graphite Stick Pencils – Red – b2   1500        1100\n",
       "2        3             Charcoal Pencils – Black   2500        1100\n",
       "3        4               Color Pencils – Yellow   3000        1100\n",
       "4        5  Graphite Stick Pencils – Black – b2   1000        1101\n",
       "5        6    Graphite Stick Pencils – Red – b2   1500        1101"
      ]
     },
     "execution_count": 5,
     "metadata": {},
     "output_type": "execute_result"
    }
   ],
   "source": [
    "df_Quotes"
   ]
  },
  {
   "cell_type": "code",
   "execution_count": 6,
   "metadata": {},
   "outputs": [],
   "source": [
    "df_Supplier = pd.read_excel('C:\\\\Users\\\\slice\\\\NLP POC\\\\NLP_Quotation\\\\Input\\\\Supplier.xlsx')"
   ]
  },
  {
   "cell_type": "code",
   "execution_count": 7,
   "metadata": {},
   "outputs": [
    {
     "data": {
      "text/html": [
       "<div>\n",
       "<style scoped>\n",
       "    .dataframe tbody tr th:only-of-type {\n",
       "        vertical-align: middle;\n",
       "    }\n",
       "\n",
       "    .dataframe tbody tr th {\n",
       "        vertical-align: top;\n",
       "    }\n",
       "\n",
       "    .dataframe thead th {\n",
       "        text-align: right;\n",
       "    }\n",
       "</style>\n",
       "<table border=\"1\" class=\"dataframe\">\n",
       "  <thead>\n",
       "    <tr style=\"text-align: right;\">\n",
       "      <th></th>\n",
       "      <th>Supplier No</th>\n",
       "      <th>Supplier Name</th>\n",
       "      <th>Supplier Email</th>\n",
       "    </tr>\n",
       "  </thead>\n",
       "  <tbody>\n",
       "    <tr>\n",
       "      <td>0</td>\n",
       "      <td>1</td>\n",
       "      <td>Abhijith</td>\n",
       "      <td>abhijith.codepixer@outlook.com</td>\n",
       "    </tr>\n",
       "    <tr>\n",
       "      <td>1</td>\n",
       "      <td>2</td>\n",
       "      <td>Shailendra</td>\n",
       "      <td>s.shailendravarma@gmail.com</td>\n",
       "    </tr>\n",
       "  </tbody>\n",
       "</table>\n",
       "</div>"
      ],
      "text/plain": [
       "   Supplier No Supplier Name                  Supplier Email\n",
       "0            1      Abhijith  abhijith.codepixer@outlook.com\n",
       "1            2    Shailendra     s.shailendravarma@gmail.com"
      ]
     },
     "execution_count": 7,
     "metadata": {},
     "output_type": "execute_result"
    }
   ],
   "source": [
    "df_Supplier"
   ]
  },
  {
   "cell_type": "code",
   "execution_count": 77,
   "metadata": {},
   "outputs": [],
   "source": [
    "writer = pd.ExcelWriter('C:\\\\Users\\\\slice\\\\NLP POC\\\\NLP_Quotation\\\\Input\\\\Received Quotes.xlsx',engine='openpyxl')"
   ]
  },
  {
   "cell_type": "code",
   "execution_count": 4,
   "metadata": {},
   "outputs": [],
   "source": [
    "import spacy\n",
    "nlp = spacy.load('en_core_web_sm')"
   ]
  },
  {
   "cell_type": "code",
   "execution_count": 5,
   "metadata": {},
   "outputs": [],
   "source": [
    "# CHANGING THE RULES\n",
    "from spacy.pipeline import SentenceSegmenter\n",
    "\n",
    "def split_on_newlines(doc):\n",
    "    start = 0 \n",
    "    seen_newline = False\n",
    "    for word in doc:\n",
    "        if seen_newline:\n",
    "            yield doc[start:word.i]\n",
    "            start = word.i\n",
    "            seen_newline = False\n",
    "        elif word.text.startswith('\\n'): # handles multiple occurrences\n",
    "            seen_newline = True\n",
    "    yield doc[start:]      # handles the last group of tokens\n",
    "\n",
    "\n",
    "sbd = SentenceSegmenter(nlp.vocab, strategy=split_on_newlines)\n",
    "nlp.add_pipe(sbd)"
   ]
  },
  {
   "cell_type": "code",
   "execution_count": 143,
   "metadata": {},
   "outputs": [],
   "source": [
    "class CurrencyPairPipeline(object):\n",
    "    def __init__(self, nlp):\n",
    "        self.label_hash = nlp.vocab.strings[\"CURRENCY_PAIR\"]\n",
    " \n",
    "    def __call__(self, doc):\n",
    "        import re\n",
    "        from spacy.tokens import Span\n",
    "        new_tokens = doc.ents\n",
    "        for idx, token in enumerate(doc):\n",
    "            #Checking if a currency pair, e.g. USDEUR, EURUSD, etc    \n",
    "            if re.search(r\"((USD|EUR|GBP|JPY|CAD)+[A-Z]{3})|([A-Z]{3}(USD|EUR|GBP|JPY|CAD))\", token.text, re.IGNORECASE):\n",
    "                #We found a match so need to update the entities\n",
    "                span = Span(doc, idx, idx+1, label=self.label_hash)\n",
    "                #Spacy only supports one label per phrase, so need to conditionally replace (e.g. USDEUR may be wrongly labelled as an ORG or GPE)\n",
    "                new_tokens = tuple([t for t in new_tokens if t.start != idx]) + (span,)\n",
    "        doc.ents = new_tokens\n",
    "        return doc"
   ]
  },
  {
   "cell_type": "code",
   "execution_count": 144,
   "metadata": {},
   "outputs": [],
   "source": [
    "ccy_pipeline = CurrencyPairPipeline(nlp)\n",
    "nlp.add_pipe(ccy_pipeline, name='ccy_pipeline', last=True)"
   ]
  },
  {
   "cell_type": "code",
   "execution_count": 30,
   "metadata": {},
   "outputs": [
    {
     "name": "stdout",
     "output_type": "stream",
     "text": [
      "****Folder Name**********************************\n",
      "shailu.codepixer@outlook.com\n",
      "*************************************************\n"
     ]
    }
   ],
   "source": [
    "#myfile = open('C:\\\\Users\\\\slice\\\\OneDrive\\\\Desktop\\\\Template3.txt')\n",
    "import win32com.client\n",
    "\n",
    "outlook = win32com.client.Dispatch(\"Outlook.Application\").GetNamespace(\"MAPI\")\n",
    "\n",
    "#inbox = outlook.GetDefaultFolder(6) # \"6\" refers to the index of a folder - in this case,\n",
    "                                    # the inbox. You can change that number to reference\n",
    "                                    # any other folder\n",
    "\n",
    "for folder in outlook.Folders:\n",
    "    print(\"****Folder Name**********************************\")\n",
    "    print(folder)\n",
    "    \n",
    "    print(\"*************************************************\")\n",
    "    for folder1 in folder.Folders:\n",
    "        if str(folder1)=='POC':\n",
    "            req_folder=folder1\n",
    "messages = req_folder.Items\n",
    "message = messages.GetFirst()\n",
    "body_content = message.HTMLBody\n"
   ]
  },
  {
   "cell_type": "code",
   "execution_count": 31,
   "metadata": {},
   "outputs": [],
   "source": [
    "MyFile_STR=body_content"
   ]
  },
  {
   "cell_type": "code",
   "execution_count": 34,
   "metadata": {},
   "outputs": [],
   "source": [
    "MyFile_STR=MyFile_STR.replace('\\r','')"
   ]
  },
  {
   "cell_type": "code",
   "execution_count": 33,
   "metadata": {},
   "outputs": [],
   "source": [
    "MyFile_STR=MyFile_STR.replace('\\n','')"
   ]
  },
  {
   "cell_type": "code",
   "execution_count": 11,
   "metadata": {},
   "outputs": [],
   "source": [
    "MyFile_STR=MyFile_STR.rsplit('shailu.codepixer@outlook.com')[0]"
   ]
  },
  {
   "cell_type": "code",
   "execution_count": 10,
   "metadata": {},
   "outputs": [],
   "source": [
    "from bs4 import BeautifulSoup"
   ]
  },
  {
   "cell_type": "code",
   "execution_count": 35,
   "metadata": {},
   "outputs": [
    {
     "data": {
      "text/plain": [
       "'<html><head><style type=\"text/css\" style=\"display:none;\"> P {margin-top:0;margin-bottom:0;} </style></head><body dir=\"ltr\"><div style=\"font-family: Calibri, Arial, Helvetica, sans-serif; font-size: 12pt; color: rgb(0, 0, 0);\"><table style=\"font-family: Calibri, Arial, Helvetica, sans-serif; background-color: rgb(255, 255, 255); border-collapse: collapse\"><tbody><tr style=\"background-color: rgb(255, 255, 255)\"><td style=\"width: 120px; border-width: 1px; border-style: solid; border-color: rgb(171, 171, 171)\">Item Name</td><td style=\"width: 120px; border-width: 1px; border-style: solid; border-color: rgb(171, 171, 171)\"><span style=\"margin: 0px; font-size: 15px; font-family: &quot;Segoe UI&quot;, &quot;Segoe UI Web (West European)&quot;, &quot;Segoe UI&quot;, -apple-system, BlinkMacSystemFont, Roboto, &quot;Helvetica Neue&quot;, sans-serif; color: rgb(33, 33, 33); text-align: left; background-color: rgb(255, 255, 255); display: inline !important\">Quantity</span><br></td><td style=\"width: 120px; border-width: 1px; border-style: solid; border-color: rgb(171, 171, 171)\">Rate/Item</td></tr><tr style=\"background-color: rgb(255, 255, 255)\"><td style=\"width: 120px; border-width: 1px; border-style: solid; border-color: rgb(171, 171, 171)\"><span style=\"margin: 0px; font-size: 15px; font-family: &quot;Segoe UI&quot;, &quot;Segoe UI Web (West European)&quot;, &quot;Segoe UI&quot;, -apple-system, BlinkMacSystemFont, Roboto, &quot;Helvetica Neue&quot;, sans-serif; color: rgb(33, 33, 33); text-align: left; background-color: rgb(255, 255, 255); display: inline !important\"><span style=\"margin: 0px; background-color: rgb(255, 255, 255); display: inline !important\">Graphite Stick Pencils – Black – b2</span><span style=\"margin: 0px\"></span></span><br></td><td style=\"width: 120px; border-width: 1px; border-style: solid; border-color: rgb(171, 171, 171)\">1000</td><td style=\"width: 120px; border-width: 1px; border-style: solid; border-color: rgb(171, 171, 171)\"><span style=\"margin: 0px; font-size: 15px; font-family: &quot;Segoe UI&quot;, &quot;Segoe UI Web (West European)&quot;, &quot;Segoe UI&quot;, -apple-system, BlinkMacSystemFont, Roboto, &quot;Helvetica Neue&quot;, sans-serif; color: rgb(33, 33, 33); text-align: left; background-color: rgb(255, 255, 255); display: inline !important\">12$</span><br></td></tr><tr style=\"background-color: rgb(255, 255, 255)\"><td style=\"width: 120px; border-width: 1px; border-style: solid; border-color: rgb(171, 171, 171)\"><span style=\"margin: 0px; background-color: rgb(255, 255, 255); display: inline !important\"><span style=\"margin: 0px; background-color: rgb(255, 255, 255); display: inline !important\"><span style=\"margin: 0px; font-size: 15px; font-family: &quot;Segoe UI&quot;, &quot;Segoe UI Web (West European)&quot;, &quot;Segoe UI&quot;, -apple-system, BlinkMacSystemFont, Roboto, &quot;Helvetica Neue&quot;, sans-serif; color: rgb(33, 33, 33); text-align: left; background-color: rgb(255, 255, 255); display: inline !important\">Pencils – Red – b2</span><span style=\"margin: 0px; font-size: 15px; font-family: &quot;Segoe UI&quot;, &quot;Segoe UI Web (West European)&quot;, &quot;Segoe UI&quot;, -apple-system, BlinkMacSystemFont, Roboto, &quot;Helvetica Neue&quot;, sans-serif; color: rgb(33, 33, 33); text-align: left\">&nbsp;</span></span></span><br></td><td style=\"width: 120px; border-width: 1px; border-style: solid; border-color: rgb(171, 171, 171)\"><span style=\"margin: 0px; background-color: rgb(255, 255, 255); display: inline !important\">1500</span></td><td style=\"width: 120px; border-width: 1px; border-style: solid; border-color: rgb(171, 171, 171)\">10$</td></tr></tbody></table><table style=\"font-family: Calibri, sans-serif; background-color: rgb(255, 255, 255); border-collapse: collapse\"><tbody><tr style=\"background-color: rgb(255, 255, 255)\"><td style=\"width: 120px; border-width: 1px; border-style: solid; border-color: rgb(171, 171, 171)\"><span style=\"margin: 0px\">Charcoal Pencils – Black</span><br></td><td style=\"width: 120px; border-width: 1px; border-style: solid; border-color: rgb(171, 171, 171)\">2500</td><td style=\"width: 120px; border-width: 1px; border-style: solid; border-color: rgb(171, 171, 171)\">15$</td></tr></tbody></table><br></div><div style=\"font-family: Calibri, Arial, Helvetica, sans-serif; font-size: 12pt; color: rgb(0, 0, 0);\"><br></div><div id=\"Signature\"><div></div><div></div><div id=\"geom_inter_1581541250702_100_13\" style=\"font-family:Calibri,Arial,Helvetica,sans-serif; color:rgb(0,0,0)\"><p style=\"margin:0in 0in 0.0001pt; font-family:Calibri,sans-serif\"><br></p><p style=\"font-size:12pt; margin:0in 0in 0.0001pt; font-family:Calibri,sans-serif\"><span style=\"font-size:9.0pt\"><span style=\"font-size:12pt\"><b>Regards,</b></span></span></p><p id=\"geom_inter_1581541250701_18_12\" style=\"font-size:12pt; margin:0in 0in 0.0001pt; font-family:Calibri,sans-serif\"></p></div><div style=\"color:WISESTAMP_SIG_8f726a2a30e9ff25783e889a429407a7\"><div id=\"geom_inter_1581541260525_31_16\"><table class=\"main_html date__2020_02_12___20_59\" style=\"color:ws-gmail-api-sig; max-width:600px; direction:ltr\"><tbody><tr><td><table class=\"html wisestamp_app main_sig\" id=\"tp1s\" border=\"0\" cellspacing=\"0\" cellpadding=\"0\" style=\"max-width:470px; padding-bottom:10px; margin-bottom:8px\"><tbody><tr><td><table border=\"0\" cellspacing=\"0\" cellpadding=\"0\" width=\"470\" style=\"width:470px\"><tbody><tr valign=\"top\"><td style=\"text-align:initial; font:12px Arial; color:#646464; padding:0 10px\"><div style=\"margin-top:10px\"><table width=\"100%\" style=\"box-sizing:border-box; border-spacing:0px; border-collapse:collapse; background:none; color:rgb(51,51,51); font-family:Cerebri-sans,Helvetica,Arial,sans-serif; font-size:14px; display:table; table-layout:fixed; margin:0px\"><tbody style=\"box-sizing:border-box\"><tr style=\"box-sizing:border-box\"><td style=\"box-sizing:border-box; padding:0px 7px 0px 0px; border-left:none rgb(51,29,221); border-top:none rgb(51,29,221); border-bottom:none rgb(51,29,221); border-right:3px solid rgb(51,29,221); width:132px\"></td></tr></tbody></table></div><table style=\"box-sizing:border-box; border-spacing:0px; border-collapse:collapse; background-color:rgb(255,255,255); color:rgb(68,68,68); width:500px; font-size:11pt; font-family:Arial,sans-serif\"><tbody style=\"box-sizing:border-box\"><tr style=\"box-sizing:border-box\"><td width=\"200\" style=\"box-sizing:border-box; padding:0px 20px 0px 0px; font-size:10pt; width:200px; vertical-align:top\"><img alt=\"Logo\" width=\"200\" style=\"box-sizing:border-box; vertical-align:middle; width:200px; height:auto\" src=\"https://drive.google.com/uc?export=view&amp;id=1Ljpd9Iaeh-y5q3EI_caXJsb6K62zwvK6\"></td><td width=\"300\" style=\"box-sizing:border-box; vertical-align:top; width:300px\"><table width=\"300\" style=\"box-sizing:border-box; border-collapse:collapse; width:300px\"><tbody style=\"box-sizing:border-box\"><tr style=\"box-sizing:border-box\"><td style=\"box-sizing:border-box; font-size:10pt; width:300px; height:40px; vertical-align:top\"><span style=\"font-size:14pt\"><strong style=\"box-sizing:border-box; font-family:&quot;Arial Black&quot;; color:rgb(0,0,0)\">Abhijith SM<br></strong></span><span style=\"font-size:14pt; font-family:Calibri,Helvetica,sans-serif\"><strong style=\"box-sizing:border-box; color:rgb(0,0,0)\">\\u200b</strong><span style=\"box-sizing:border-box; color:rgb(0,0,0)\">CodePixer&nbsp;</span></span><span style=\"font-size:14pt\"><strong style=\"box-sizing:border-box; font-family:&quot;Arial Black&quot;; color:rgb(0,0,0)\"><br></strong></span></td></tr><tr style=\"box-sizing:border-box\"><td style=\"box-sizing:border-box; font-size:10pt; width:300px; height:30px; vertical-align:top\"><span style=\"box-sizing:border-box; text-transform:uppercase; color:rgb(0,0,0)\">PROJECT MANAGER</span></td></tr><tr style=\"box-sizing:border-box\"><td style=\"box-sizing:border-box; font-size:9pt; height:105px; vertical-align:top\"><table width=\"300\" style=\"box-sizing:border-box; border-collapse:collapse; width:300px\"><tbody style=\"box-sizing:border-box\"><tr style=\"box-sizing:border-box\"><td width=\"80\" style=\"box-sizing:border-box; line-height:14px; color:rgb(0,0,0)\">Phone:</td><td style=\"box-sizing:border-box; line-height:14px\"><strong style=\"box-sizing:border-box; font-weight:700; color:rgb(0,0,0)\">&#43;91-9940243959</strong></td></tr><tr style=\"box-sizing:border-box\"><td width=\"80\" style=\"box-sizing:border-box; line-height:14px; width:80px; color:rgb(0,0,0)\">Email:</td><td style=\"box-sizing:border-box; line-height:14px\"><strong style=\"box-sizing:border-box; font-weight:700; color:rgb(0,0,0)\">abhijith.codepixer@outlook.com</strong></td></tr><tr style=\"box-sizing:border-box\"><td width=\"80\" style=\"box-sizing:border-box; line-height:14px; width:80px; color:rgb(0,0,0); vertical-align:top\">Address:</td><td style=\"box-sizing:border-box; vertical-align:top; line-height:14px\"><strong style=\"box-sizing:border-box; font-weight:700; color:rgb(0,0,0)\">1502 Vaikund Sundaram, Vendrasi Amman Kovil Street, Karappakam, Chennai, Tamil Nadu 60009, India</strong></td></tr></tbody></table></td></tr><tr style=\"box-sizing:border-box\"><td style=\"box-sizing:border-box; font-size:10pt; vertical-align:bottom; height:25px\"><span style=\"box-sizing:border-box\"><a href=\"https://www.facebook.com/abhijith.abhi.906638?ref=bookmarks\" target=\"_blank\" rel=\"noopener\" style=\"box-sizing:border-box; color:rgb(51,122,183)\"><img width=\"19\" alt=\"facebook icon\" style=\"box-sizing:border-box; vertical-align:middle; height:19px; width:19px\" src=\"https://codetwocdn.azureedge.net/images/mail-signatures/generator/pad-box/fb.png\"></a>&nbsp;</span><span style=\"box-sizing:border-box\"><a href=\"https://twitter.com/ABHIJITH_SM\" target=\"_blank\" rel=\"noopener\" style=\"box-sizing:border-box; color:rgb(51,122,183)\"><img width=\"19\" alt=\"twitter icon\" style=\"box-sizing:border-box; vertical-align:middle; height:19px; width:19px\" src=\"https://codetwocdn.azureedge.net/images/mail-signatures/generator/pad-box/tt.png\"></a>&nbsp;</span><span style=\"box-sizing:border-box\"><a href=\"https://www.linkedin.com/in/abhijith-sm-723392184/\" target=\"_blank\" rel=\"noopener\" style=\"box-sizing:border-box; color:rgb(51,122,183)\"><img width=\"19\" alt=\"linkedin icon\" style=\"box-sizing:border-box; vertical-align:middle; height:19px; width:19px\" src=\"https://codetwocdn.azureedge.net/images/mail-signatures/generator/pad-box/ln.png\"></a>&nbsp;</span></td></tr></tbody></table></td></tr><tr style=\"box-sizing:border-box\"><td colspan=\"2\" style=\"box-sizing:border-box; padding:15px 0px 0px; line-height:14px; font-size:8pt; color:rgb(154,154,154)\">The content of this email is confidential and intended for the recipient specified in message only. It is strictly forbidden to share any part of this message with any third party, without a written consent of the sender. If you received this message by mistake, please reply to this message and follow with its deletion, so that we can ensure such a mistake does not occur in the future.</td></tr></tbody></table><div style=\"margin-top:10px\"><table width=\"430\" style=\"box-sizing:border-box; border-spacing:0px; border-collapse:collapse; background-color:rgb(255,255,255); color:rgb(68,68,68); font-family:&quot;Open Sans&quot;,sans-serif; font-size:14px; line-height:17px\"><tbody style=\"box-sizing:border-box\"><tr style=\"box-sizing:border-box\"><td colspan=\"2\" style=\"box-sizing:border-box; padding:0px 0px 10px; vertical-align:top\"></td></tr><tr style=\"box-sizing:border-box\"><td style=\"box-sizing:border-box; padding:0px 0px 8px 10px; vertical-align:top; font-family:Arial,sans-serif; color:rgb(70,70,70)\"></td><td align=\"right\" style=\"box-sizing:border-box; padding:0px 10px 0px 0px; vertical-align:top; text-align:right; font-family:Arial,sans-serif; color:rgb(148,178,0)\"></td></tr><tr style=\"box-sizing:border-box\"><td colspan=\"2\" style=\"box-sizing:border-box; vertical-align:top\"></td></tr><tr style=\"box-sizing:border-box\"><td width=\"430\" colspan=\"2\" style=\"box-sizing:border-box; padding:10px 0px 0px; line-height:10px; vertical-align:top; font-family:Arial,sans-serif; color:rgb(70,70,70)\"><br></td></tr></tbody></table></div></td></tr></tbody></table></td></tr></tbody></table></td></tr></tbody></table></div></div></div><div id=\"appendonsend\"></div><hr style=\"display:inline-block;width:98%\" tabindex=\"-1\"><div id=\"divRplyFwdMsg\" dir=\"ltr\"><font face=\"Calibri, sans-serif\" style=\"font-size:11pt\" color=\"#000000\"><b>From:</b> Shailendra Varma Sagi &lt;shailu.codepixer@outlook.com&gt;<br><b>Sent:</b> Friday, February 14, 2020 11:43 PM<br><b>To:</b> Abhijith.Codepixer@outlook.com &lt;Abhijith.Codepixer@outlook.com&gt;<br><b>Subject:</b> SoftClouds – Quotation #1100 for Pencils</font><div>&nbsp;</div></div><style type=\"text/css\" style=\"display:none\"><!--p\\t{margin-top:0;\\tmargin-bottom:0}--></style><div dir=\"ltr\"><div style=\"color:rgb(0,0,0); font-family:Calibri,Arial,Helvetica,sans-serif; font-size:12pt\"><span><span>Quote NO: #1100</span></span></div><div style=\"color:rgb(0,0,0); font-family:Calibri,Arial,Helvetica,sans-serif; font-size:12pt\"><span><span><br></span></span></div><div style=\"color:rgb(0,0,0); font-family:Calibri,Arial,Helvetica,sans-serif; font-size:12pt\"><span><span>Supplier Name: Abhijith</span></span></div><div style=\"color:rgb(0,0,0); font-family:Calibri,Arial,Helvetica,sans-serif; font-size:12pt\"><span><span><br></span></span></div><div style=\"color:rgb(0,0,0); font-family:Calibri,Arial,Helvetica,sans-serif; font-size:12pt\"><span><span>Thanks for being a supplier for us. We would like to get a quote from you for the following items:<br></span><div>\\u200b</div><div>Graphite Stick Pencils – Black – b2 – 1000 Numbers\\u200b</div><div>\\u200b</div><div>Graphite Stick Pencils – Red – b2 – 1500 Numbers\\u200b</div><div>\\u200b</div><div>Charcoal Pencils – Black – 2500\\u200b</div><div>\\u200b</div><div>Color Pencils – Yellow – 3000\\u200b</div><div>\\u200b</div><div>Please respond with your quotes by 2/20/2020.\\u200b</div><div>\\u200b</div><div>Looking forward to hearing back from you.\\u200b</div><div>\\u200b</div><div><span>Thanks</span></div><div><br></div><div>Shailendra</div></span></div></div></body></html>'"
      ]
     },
     "execution_count": 35,
     "metadata": {},
     "output_type": "execute_result"
    }
   ],
   "source": [
    "MyFile_STR"
   ]
  },
  {
   "cell_type": "code",
   "execution_count": 58,
   "metadata": {},
   "outputs": [
    {
     "name": "stdout",
     "output_type": "stream",
     "text": [
      "0\n",
      "1\n",
      "2\n",
      "Graphite Stick Pencils –  Black – b2\n",
      "1000\n",
      "$2000\n",
      "0\n",
      "1\n",
      "2\n",
      "Graphite Stick Pencils – Red – b2\n",
      "1500\n",
      "$3000\n",
      "0\n",
      "1\n",
      "2\n",
      "Color Pencils\n",
      "3000\n",
      "$2000\n",
      "0\n",
      "1\n",
      "Abhijith S M abhijithsm94@outlook.com Phone: + 91 - 9940243959 1502 Vaikund Sundaram, Vendrasi Amman Kovil Street, Karappakam, Chennai, Tamil Nadu 60009, India\n",
      "nan\n",
      "Abhijith S M abhijithsm94@outlook.com Phone: + 91 - 9940243959 1502 Vaikund Sundaram, Vendrasi Amman Kovil Street, Karappakam, Chennai, Tamil Nadu 60009, India\n",
      "nan\n",
      "Abhijith S M abhijithsm94@outlook.com Phone: + 91 - 9940243959 1502 Vaikund Sundaram, Vendrasi Amman Kovil Street, Karappakam, Chennai, Tamil Nadu 60009, India\n",
      "nan\n",
      "nan\n",
      "nan\n",
      "Abhijith S M\n",
      "nan\n",
      "abhijithsm94@outlook.com Phone: + 91 - 9940243959 1502 Vaikund Sundaram, Vendrasi Amman Kovil Street, Karappakam, Chennai, Tamil Nadu 60009, India\n",
      "abhijithsm94@outlook.com Phone: + 91 - 9940243959 1502 Vaikund Sundaram, Vendrasi Amman Kovil Street, Karappakam, Chennai, Tamil Nadu 60009, India\n",
      "nan\n",
      "nan\n",
      "nan\n",
      "nan\n",
      "nan\n",
      "nan\n",
      "0\n",
      "1\n",
      "Abhijith S M abhijithsm94@outlook.com Phone: + 91 - 9940243959 1502 Vaikund Sundaram, Vendrasi Amman Kovil Street, Karappakam, Chennai, Tamil Nadu 60009, India\n",
      "nan\n",
      "Abhijith S M abhijithsm94@outlook.com Phone: + 91 - 9940243959 1502 Vaikund Sundaram, Vendrasi Amman Kovil Street, Karappakam, Chennai, Tamil Nadu 60009, India\n",
      "nan\n",
      "nan\n",
      "nan\n",
      "Abhijith S M\n",
      "nan\n",
      "abhijithsm94@outlook.com Phone: + 91 - 9940243959 1502 Vaikund Sundaram, Vendrasi Amman Kovil Street, Karappakam, Chennai, Tamil Nadu 60009, India\n",
      "abhijithsm94@outlook.com Phone: + 91 - 9940243959 1502 Vaikund Sundaram, Vendrasi Amman Kovil Street, Karappakam, Chennai, Tamil Nadu 60009, India\n",
      "nan\n",
      "nan\n",
      "nan\n",
      "nan\n",
      "nan\n",
      "nan\n",
      "0\n",
      "1\n",
      "Abhijith S M abhijithsm94@outlook.com Phone: + 91 - 9940243959 1502 Vaikund Sundaram, Vendrasi Amman Kovil Street, Karappakam, Chennai, Tamil Nadu 60009, India\n",
      "nan\n",
      "nan\n",
      "nan\n",
      "Abhijith S M\n",
      "nan\n",
      "abhijithsm94@outlook.com Phone: + 91 - 9940243959 1502 Vaikund Sundaram, Vendrasi Amman Kovil Street, Karappakam, Chennai, Tamil Nadu 60009, India\n",
      "abhijithsm94@outlook.com Phone: + 91 - 9940243959 1502 Vaikund Sundaram, Vendrasi Amman Kovil Street, Karappakam, Chennai, Tamil Nadu 60009, India\n",
      "nan\n",
      "nan\n",
      "nan\n",
      "nan\n",
      "nan\n",
      "nan\n",
      "0\n",
      "1\n",
      "nan\n",
      "nan\n",
      "Abhijith S M\n",
      "nan\n",
      "abhijithsm94@outlook.com Phone: + 91 - 9940243959 1502 Vaikund Sundaram, Vendrasi Amman Kovil Street, Karappakam, Chennai, Tamil Nadu 60009, India\n",
      "abhijithsm94@outlook.com Phone: + 91 - 9940243959 1502 Vaikund Sundaram, Vendrasi Amman Kovil Street, Karappakam, Chennai, Tamil Nadu 60009, India\n",
      "nan\n",
      "nan\n",
      "nan\n",
      "nan\n",
      "nan\n",
      "nan\n"
     ]
    }
   ],
   "source": [
    "if \"<table\" in MyFile_STR:\n",
    "item_regex='Graphite Stick Pencils –  Black – b2|'\n",
    "is_count=False\n",
    "    soup = BeautifulSoup(MyFile_STR, \"html.parser\")\n",
    "    for body in soup(\"tbody\"):\n",
    "        body.unwrap()\n",
    "\n",
    "    df = pd.read_html(str(soup), flavor=\"bs4\")\n",
    "\n",
    "    for df1 in df:\n",
    "        item_col_no=-1\n",
    "        cost_col_no=-1\n",
    "        c=0\n",
    "        for col in df1.columns:\n",
    "            if is_cost(col):\n",
    "                cost_col_no=c\n",
    "                is_count= is_per(col)\n",
    "                currency=get_currency(col)\n",
    "            c=c+1\n",
    "        \n",
    "        if cost_col_no!=-1 and currency==0:\n",
    "            currency=get_currency()\n",
    "            \n",
    "        \n",
    "        \n",
    "        c=0\n",
    "        for index, row in df1.iterrows():\n",
    "            for col in row:\n",
    "                if col+'|' in item_regex:\n",
    "                    item_col_no=c\n",
    "            c=c+1\n",
    "        \n",
    "        "
   ]
  },
  {
   "cell_type": "code",
   "execution_count": 17,
   "metadata": {},
   "outputs": [],
   "source": [
    "def is_cost(text):\n",
    "    Flag=0\n",
    "    df_strings= pd.read_excel('C:\\\\Users\\\\slice\\\\NLP POC\\\\NLP_Quotation\\\\Input\\\\Cost.xlsx')\n",
    "    for index, row in df_strings.iterrows():\n",
    "        if str(row['String']).lower() in text.lower():\n",
    "            Flag=1\n",
    "            return True;\n",
    "    if Flag==0:\n",
    "        return False;"
   ]
  },
  {
   "cell_type": "code",
   "execution_count": null,
   "metadata": {},
   "outputs": [],
   "source": []
  },
  {
   "cell_type": "code",
   "execution_count": 28,
   "metadata": {},
   "outputs": [],
   "source": [
    "    import requests\n",
    "    import pandas as pd\n",
    "    from bs4 import BeautifulSoup\n",
    "    \n",
    "    class HTMLTableParser:\n",
    "       \n",
    "        def parse_url(self, url):\n",
    "            response = requests.get(url)\n",
    "            soup = BeautifulSoup(response.text, 'lxml')\n",
    "            return [(table['id'],self.parse_html_table(table))\\\n",
    "                    for table in soup.find_all('table')]  \n",
    "    \n",
    "        def parse_html_table(self, table):\n",
    "            n_columns = 0\n",
    "            n_rows=0\n",
    "            column_names = []\n",
    "    \n",
    "            # Find number of rows and columns\n",
    "            # we also find the column titles if we can\n",
    "            for row in table.find_all('tr'):\n",
    "                \n",
    "                # Determine the number of rows in the table\n",
    "                td_tags = row.find_all('td')\n",
    "                if len(td_tags) > 0:\n",
    "                    n_rows+=1\n",
    "                    if n_columns == 0:\n",
    "                        # Set the number of columns for our table\n",
    "                        n_columns = len(td_tags)\n",
    "                        \n",
    "                # Handle column names if we find them\n",
    "                th_tags = row.find_all('th') \n",
    "                if len(th_tags) > 0 and len(column_names) == 0:\n",
    "                    for th in th_tags:\n",
    "                        column_names.append(th.get_text())\n",
    "    \n",
    "            # Safeguard on Column Titles\n",
    "            if len(column_names) > 0 and len(column_names) != n_columns:\n",
    "                raise Exception(\"Column titles do not match the number of columns\")\n",
    "    \n",
    "            columns = column_names if len(column_names) > 0 else range(0,n_columns)\n",
    "            df = pd.DataFrame(columns = columns,\n",
    "                              index= range(0,n_rows))\n",
    "            row_marker = 0\n",
    "            for row in table.find_all('tr'):\n",
    "                column_marker = 0\n",
    "                columns = row.find_all('td')\n",
    "                for column in columns:\n",
    "                    df.iat[row_marker,column_marker] = column.get_text()\n",
    "                    column_marker += 1\n",
    "                if len(columns) > 0:\n",
    "                    row_marker += 1\n",
    "                    \n",
    "            # Convert to float if possible\n",
    "            for col in df:\n",
    "                try:\n",
    "                    df[col] = df[col].astype(float)\n",
    "                except ValueError:\n",
    "                    pass\n",
    "            \n",
    "            return df"
   ]
  },
  {
   "cell_type": "code",
   "execution_count": 214,
   "metadata": {},
   "outputs": [
    {
     "data": {
      "text/plain": [
       "<re.Match object; span=(10, 14), match='1000'>"
      ]
     },
     "execution_count": 214,
     "metadata": {},
     "output_type": "execute_result"
    }
   ],
   "source": [
    "re.search(r'[1-9](\\d+)*(,\\d{1,})*([\\.][\\d]+)?',MyFile_STR)"
   ]
  },
  {
   "cell_type": "code",
   "execution_count": null,
   "metadata": {},
   "outputs": [],
   "source": []
  },
  {
   "cell_type": "code",
   "execution_count": null,
   "metadata": {},
   "outputs": [],
   "source": []
  },
  {
   "cell_type": "code",
   "execution_count": null,
   "metadata": {},
   "outputs": [],
   "source": []
  },
  {
   "cell_type": "code",
   "execution_count": null,
   "metadata": {},
   "outputs": [],
   "source": []
  },
  {
   "cell_type": "code",
   "execution_count": 180,
   "metadata": {},
   "outputs": [
    {
     "data": {
      "text/plain": [
       "'2000'"
      ]
     },
     "execution_count": 180,
     "metadata": {},
     "output_type": "execute_result"
    }
   ],
   "source": [
    "get_nearest_no(MyFile_STR)"
   ]
  },
  {
   "cell_type": "code",
   "execution_count": 159,
   "metadata": {},
   "outputs": [],
   "source": [
    "def get_nearest_no(text):\n",
    "    c=0\n",
    "    for token in nlp(text):\n",
    "        if get_currency(token.text)!=0:\n",
    "            currency_token=c\n",
    "            break;\n",
    "        c=c+1\n",
    "    c=0\n",
    "    Nearest_No=''\n",
    "    for token in nlp(text):\n",
    "        if token.tag_=='CD':\n",
    "            if Nearest_No=='':\n",
    "                Nearest_No=token.text\n",
    "                diff=abs(currency_token-c)\n",
    "            else:\n",
    "                if diff>abs(currency_token-c):\n",
    "                    Nearest_No=token.text\n",
    "                    diff=abs(currency_token-c)\n",
    "        c=c+1\n",
    "    return Nearest_No;\n",
    "    "
   ]
  },
  {
   "cell_type": "code",
   "execution_count": 155,
   "metadata": {},
   "outputs": [
    {
     "name": "stdout",
     "output_type": "stream",
     "text": [
      "Graphite Stick Pencils – Red – b2 – 1500 Numbers - 3000$\n",
      "Graphite   PROPN    NNP    noun, proper singular\n",
      "Stick      PROPN    NNP    noun, proper singular\n",
      "Pencils    NOUN     NNS    noun, plural\n",
      "–          PUNCT    :      punctuation mark, colon or ellipsis\n",
      "Red        PROPN    NNP    noun, proper singular\n",
      "–          PUNCT    :      punctuation mark, colon or ellipsis\n",
      "b2         NOUN     NN     noun, singular or mass\n",
      "–          PUNCT    :      punctuation mark, colon or ellipsis\n",
      "1500       NUM      CD     cardinal number\n",
      "Numbers    PROPN    NNP    noun, proper singular\n",
      "-          PUNCT    HYPH   punctuation mark, hyphen\n",
      "3000       NUM      CD     cardinal number\n",
      "$          SYM      $      symbol, currency\n",
      "next sen\n"
     ]
    }
   ],
   "source": [
    "for sent in nlp(MyFile_STR).sents:\n",
    "    print(sent.text)\n",
    "    \n",
    "    #for ent in nlp(sent.text).ents:\n",
    "        #print(ent.text, ent.start, ent.end, ent.start_char, ent.end_char, ent.label_)\n",
    "    \n",
    "    for token in nlp(sent.text):\n",
    "        #print(token.tag_)\n",
    "        print(f'{token.text:{10}} {token.pos_:{8}} {token.tag_:{6}} {spacy.explain(token.tag_)}')\n",
    "        \n",
    "    print('next sen')"
   ]
  },
  {
   "cell_type": "code",
   "execution_count": null,
   "metadata": {},
   "outputs": [],
   "source": [
    ".000"
   ]
  },
  {
   "cell_type": "code",
   "execution_count": 239,
   "metadata": {},
   "outputs": [],
   "source": [
    "MyFile_STR=MyFile_STR.replace('\\r','\\n')"
   ]
  },
  {
   "cell_type": "code",
   "execution_count": 240,
   "metadata": {},
   "outputs": [
    {
     "data": {
      "text/plain": [
       "'Cost of 1000 Graphite Stick Pencils – Black – b2 is 20$ per item  \\n\\nCost of 1000 Graphite Stick Pencils – Red – b2 – is 15$ per item\\u200b\\n\\n\\u200b\\n\\nCost of 2500 Charcoal Pencils – Black – is 12$ per item\\n\\n\\n\\n\\n\\n\\n\\n\\n\\n\\n\\n\\n\\nRegards,\\n\\n\\n\\n\\n\\n\\t\\n\\nAbhijith S M\\n\\n\\n\\n\\t\\n\\n\\t\\n\\nabhijithsm94@outlook.com\\n\\nPhone: + 91 - 9940243959\\n\\n1502 Vaikund Sundaram, Vendrasi Amman Kovil Street, Karappakam, Chennai, Tamil Nadu 60009, India\\n\\n\\t\\n\\n <https://twitter.com/ABHIJITH_SM>    <https://www.linkedin.com/in/abhijith-sm-723392184/>   <https://codetwocdn.azureedge.net/images/mail-signatures/generator/abstract-green/fb.png>  <https://www.youtube.com/user/CodeTwoChannel>  \\n\\n\\t\\n\\n <https://codetwocdn.azureedge.net/images/mail-signatures/generator/abstract-green/pic-2.png> \\t\\n\\n\\n\\n\\t\\n\\n________________________________\\n\\n\\n\\nFrom: Shailendra Varma Sagi <shailu.codepixer@outlook.com>\\n\\nSent: Friday, February 14, 2020 11:43 PM\\n\\nTo: Abhijith.Codepixer@outlook.com <Abhijith.Codepixer@outlook.com>\\n\\nSubject: SoftClouds – Quotation #1100 for Pencils \\n\\n \\n\\nQuote NO: #1100\\n\\n\\n\\n\\n\\nSupplier Name: Abhijith\\n\\n\\n\\n\\n\\nThanks for being a supplier for us. We would like to get a quote from you for the following items:\\n\\n\\n\\n\\u200b\\n\\nGraphite Stick Pencils – Black – b2 – 1000 Numbers\\u200b\\n\\n\\u200b\\n\\nGraphite Stick Pencils – Red – b2 – 1500 Numbers\\u200b\\n\\n\\u200b\\n\\nCharcoal Pencils – Black – 2500\\u200b\\n\\n\\u200b\\n\\nColor Pencils – Yellow – 3000\\u200b\\n\\n\\u200b\\n\\nPlease respond with your quotes by 2/20/2020.\\u200b\\n\\n\\u200b\\n\\nLooking forward to hearing back from you.\\u200b\\n\\n\\u200b\\n\\nThanks\\n\\n\\n\\nShailendra'"
      ]
     },
     "execution_count": 240,
     "metadata": {},
     "output_type": "execute_result"
    }
   ],
   "source": [
    "MyFile_STR"
   ]
  },
  {
   "cell_type": "code",
   "execution_count": 40,
   "metadata": {},
   "outputs": [],
   "source": [
    "messages = req_folder.Items\n",
    "message = messages.GetFirst()\n",
    "body_content = message.body"
   ]
  },
  {
   "cell_type": "code",
   "execution_count": 116,
   "metadata": {},
   "outputs": [
    {
     "data": {
      "text/plain": [
       "'\\r\\nHi ABC,\\r\\n\\r\\nThank you \\r\\n\\r\\nGraphite Stick Pencils – Black – b2 – 1000 Numbers\\u200b - 2000 USD\\r\\n\\u200b\\r\\nGraphite Stick Pencils – Red – b2 – 1500 Numbers\\u200b - 3000 USD\\r\\n\\u200b\\r\\nCharcoal Pencils – Black – 2500\\u200b - $1500\\r\\n\\r\\n\\r\\n\\r\\n\\r\\n\\r\\nRegards,\\r\\n\\r\\n\\r\\n\\t\\r\\nAbhijith S M\\r\\n\\r\\n\\t\\r\\n\\t\\r\\nabhijithsm94@outlook.com\\r\\nPhone: + 91 - 9940243959\\r\\n1502 Vaikund Sundaram, Vendrasi Amman Kovil Street, Karappakam, Chennai, Tamil Nadu 60009, India\\r\\n\\t\\r\\n <https://twitter.com/ABHIJITH_SM>    <https://www.linkedin.com/in/abhijith-sm-723392184/>   <https://codetwocdn.azureedge.net/images/mail-signatures/generator/abstract-green/fb.png>  <https://www.youtube.com/user/CodeTwoChannel>  \\r\\n\\t\\r\\n <https://codetwocdn.azureedge.net/images/mail-signatures/generator/abstract-green/pic-2.png> \\t\\r\\n\\r\\n\\t\\r\\n________________________________\\r\\n\\r\\nFrom: Shailendra Varma Sagi <shailu.codepixer@outlook.com>\\r\\nSent: Friday, February 14, 2020 11:43 PM\\r\\nTo: Abhijith.Codepixer@outlook.com <Abhijith.Codepixer@outlook.com>\\r\\nSubject: SoftClouds – Quotation #1100 for Pencils \\r\\n \\r\\nQuote NO: #1100\\r\\n\\r\\n\\r\\nSupplier Name: Abhijith\\r\\n\\r\\n\\r\\nThanks for being a supplier for us. We would like to get a quote from you for the following items:\\r\\n\\r\\n\\u200b\\r\\nGraphite Stick Pencils – Black – b2 – 1000 Numbers\\u200b\\r\\n\\u200b\\r\\nGraphite Stick Pencils – Red – b2 – 1500 Numbers\\u200b\\r\\n\\u200b\\r\\nCharcoal Pencils – Black – 2500\\u200b\\r\\n\\u200b\\r\\nColor Pencils – Yellow – 3000\\u200b\\r\\n\\u200b\\r\\nPlease respond with your quotes by 2/20/2020.\\u200b\\r\\n\\u200b\\r\\nLooking forward to hearing back from you.\\u200b\\r\\n\\u200b\\r\\nThanks\\r\\n\\r\\nShailendra'"
      ]
     },
     "execution_count": 116,
     "metadata": {},
     "output_type": "execute_result"
    }
   ],
   "source": [
    "body_content"
   ]
  },
  {
   "cell_type": "code",
   "execution_count": 108,
   "metadata": {},
   "outputs": [
    {
     "ename": "NameError",
     "evalue": "name 'myfile' is not defined",
     "output_type": "error",
     "traceback": [
      "\u001b[1;31m---------------------------------------------------------------------------\u001b[0m",
      "\u001b[1;31mNameError\u001b[0m                                 Traceback (most recent call last)",
      "\u001b[1;32m<ipython-input-108-db830e3d7b5b>\u001b[0m in \u001b[0;36m<module>\u001b[1;34m\u001b[0m\n\u001b[1;32m----> 1\u001b[1;33m \u001b[0mmyfile\u001b[0m\u001b[1;33m.\u001b[0m\u001b[0mseek\u001b[0m\u001b[1;33m(\u001b[0m\u001b[1;36m0\u001b[0m\u001b[1;33m)\u001b[0m\u001b[1;33m\u001b[0m\u001b[1;33m\u001b[0m\u001b[0m\n\u001b[0m",
      "\u001b[1;31mNameError\u001b[0m: name 'myfile' is not defined"
     ]
    }
   ],
   "source": [
    "myfile.seek(0)"
   ]
  },
  {
   "cell_type": "code",
   "execution_count": 15,
   "metadata": {},
   "outputs": [
    {
     "name": "stdout",
     "output_type": "stream",
     "text": [
      "<COMObject <unknown>>\n"
     ]
    }
   ],
   "source": [
    "print(messages)\n"
   ]
  },
  {
   "cell_type": "code",
   "execution_count": 49,
   "metadata": {},
   "outputs": [],
   "source": []
  },
  {
   "cell_type": "code",
   "execution_count": 241,
   "metadata": {},
   "outputs": [
    {
     "data": {
      "text/plain": [
       "2"
      ]
     },
     "execution_count": 241,
     "metadata": {},
     "output_type": "execute_result"
    }
   ],
   "source": [
    "len(MyFile_STR.rsplit('Shailendra Varma Sagi <shailu.codepixer@outlook.com>'))"
   ]
  },
  {
   "cell_type": "code",
   "execution_count": 242,
   "metadata": {},
   "outputs": [
    {
     "data": {
      "text/plain": [
       "'Cost of 1000 Graphite Stick Pencils – Black – b2 is 20$ per item  \\n\\nCost of 1000 Graphite Stick Pencils – Red – b2 – is 15$ per item\\u200b\\n\\n\\u200b\\n\\nCost of 2500 Charcoal Pencils – Black – is 12$ per item\\n\\n\\n\\n\\n\\n\\n\\n\\n\\n\\n\\n\\n\\nRegards,\\n\\n\\n\\n\\n\\n\\t\\n\\nAbhijith S M\\n\\n\\n\\n\\t\\n\\n\\t\\n\\nabhijithsm94@outlook.com\\n\\nPhone: + 91 - 9940243959\\n\\n1502 Vaikund Sundaram, Vendrasi Amman Kovil Street, Karappakam, Chennai, Tamil Nadu 60009, India\\n\\n\\t\\n\\n <https://twitter.com/ABHIJITH_SM>    <https://www.linkedin.com/in/abhijith-sm-723392184/>   <https://codetwocdn.azureedge.net/images/mail-signatures/generator/abstract-green/fb.png>  <https://www.youtube.com/user/CodeTwoChannel>  \\n\\n\\t\\n\\n <https://codetwocdn.azureedge.net/images/mail-signatures/generator/abstract-green/pic-2.png> \\t\\n\\n\\n\\n\\t\\n\\n________________________________\\n\\n\\n\\nFrom: '"
      ]
     },
     "execution_count": 242,
     "metadata": {},
     "output_type": "execute_result"
    }
   ],
   "source": [
    "MyFile_STR.rsplit('Shailendra Varma Sagi <shailu.codepixer@outlook.com>')[0]"
   ]
  },
  {
   "cell_type": "code",
   "execution_count": 15,
   "metadata": {},
   "outputs": [
    {
     "ename": "IndexError",
     "evalue": "list index out of range",
     "output_type": "error",
     "traceback": [
      "\u001b[1;31m---------------------------------------------------------------------------\u001b[0m",
      "\u001b[1;31mIndexError\u001b[0m                                Traceback (most recent call last)",
      "\u001b[1;32m<ipython-input-15-96c51f614b24>\u001b[0m in \u001b[0;36m<module>\u001b[1;34m\u001b[0m\n\u001b[1;32m----> 1\u001b[1;33m \u001b[0mx\u001b[0m\u001b[1;33m=\u001b[0m\u001b[0mre\u001b[0m\u001b[1;33m.\u001b[0m\u001b[0msearch\u001b[0m\u001b[1;33m(\u001b[0m\u001b[1;34mr'\\nQuote NO: #[\\d]{4}\\n'\u001b[0m\u001b[1;33m,\u001b[0m\u001b[0mMyFile_STR\u001b[0m\u001b[1;33m.\u001b[0m\u001b[0mrsplit\u001b[0m\u001b[1;33m(\u001b[0m\u001b[1;34m'Shailendra Varma Sagi <shailu.codepixer@outlook.com>'\u001b[0m\u001b[1;33m)\u001b[0m\u001b[1;33m[\u001b[0m\u001b[1;36m1\u001b[0m\u001b[1;33m]\u001b[0m\u001b[1;33m)\u001b[0m\u001b[1;33m.\u001b[0m\u001b[0mgroup\u001b[0m\u001b[1;33m(\u001b[0m\u001b[1;33m)\u001b[0m\u001b[1;33m\u001b[0m\u001b[1;33m\u001b[0m\u001b[0m\n\u001b[0m",
      "\u001b[1;31mIndexError\u001b[0m: list index out of range"
     ]
    }
   ],
   "source": [
    " x=re.search(r'\\nQuote NO: #[\\d]{4}\\n',MyFile_STR.rsplit('Shailendra Varma Sagi <shailu.codepixer@outlook.com>')[1]).group()"
   ]
  },
  {
   "cell_type": "code",
   "execution_count": 220,
   "metadata": {},
   "outputs": [],
   "source": [
    "Quote=re.search(r'[\\d]{4}',x).group()"
   ]
  },
  {
   "cell_type": "code",
   "execution_count": 221,
   "metadata": {},
   "outputs": [
    {
     "data": {
      "text/plain": [
       "'1100'"
      ]
     },
     "execution_count": 221,
     "metadata": {},
     "output_type": "execute_result"
    }
   ],
   "source": [
    "Quote"
   ]
  },
  {
   "cell_type": "code",
   "execution_count": 122,
   "metadata": {},
   "outputs": [],
   "source": [
    " x=re.search(r'\\nSupplier Name: [\\w{8,16}]*\\n',MyFile_STR.rsplit('Shailendra Varma Sagi <shailu.codepixer@outlook.com>')[1]).group()"
   ]
  },
  {
   "cell_type": "code",
   "execution_count": 123,
   "metadata": {},
   "outputs": [],
   "source": [
    "supplier=x.replace('\\nSupplier Name:','').replace('\\n','')"
   ]
  },
  {
   "cell_type": "code",
   "execution_count": 124,
   "metadata": {},
   "outputs": [
    {
     "data": {
      "text/plain": [
       "' Abhijith'"
      ]
     },
     "execution_count": 124,
     "metadata": {},
     "output_type": "execute_result"
    }
   ],
   "source": [
    "supplier"
   ]
  },
  {
   "cell_type": "code",
   "execution_count": 14,
   "metadata": {},
   "outputs": [
    {
     "ename": "NameError",
     "evalue": "name 'Quote' is not defined",
     "output_type": "error",
     "traceback": [
      "\u001b[1;31m---------------------------------------------------------------------------\u001b[0m",
      "\u001b[1;31mNameError\u001b[0m                                 Traceback (most recent call last)",
      "\u001b[1;32m<ipython-input-14-f296ffbf7bda>\u001b[0m in \u001b[0;36m<module>\u001b[1;34m\u001b[0m\n\u001b[1;32m----> 1\u001b[1;33m \u001b[0mdf_Quotes\u001b[0m \u001b[1;33m=\u001b[0m \u001b[0mdf_Quotes\u001b[0m\u001b[1;33m[\u001b[0m \u001b[0mdf_Quotes\u001b[0m\u001b[1;33m[\u001b[0m\u001b[1;34m'Quote Sent'\u001b[0m\u001b[1;33m]\u001b[0m \u001b[1;33m==\u001b[0m \u001b[0mint\u001b[0m\u001b[1;33m(\u001b[0m\u001b[0mQuote\u001b[0m\u001b[1;33m)\u001b[0m \u001b[1;33m]\u001b[0m\u001b[1;33m\u001b[0m\u001b[1;33m\u001b[0m\u001b[0m\n\u001b[0m",
      "\u001b[1;31mNameError\u001b[0m: name 'Quote' is not defined"
     ]
    }
   ],
   "source": [
    "df_Quotes = df_Quotes[ df_Quotes['Quote Sent'] == int(Quote) ]\n"
   ]
  },
  {
   "cell_type": "code",
   "execution_count": 13,
   "metadata": {},
   "outputs": [
    {
     "data": {
      "text/html": [
       "<div>\n",
       "<style scoped>\n",
       "    .dataframe tbody tr th:only-of-type {\n",
       "        vertical-align: middle;\n",
       "    }\n",
       "\n",
       "    .dataframe tbody tr th {\n",
       "        vertical-align: top;\n",
       "    }\n",
       "\n",
       "    .dataframe thead th {\n",
       "        text-align: right;\n",
       "    }\n",
       "</style>\n",
       "<table border=\"1\" class=\"dataframe\">\n",
       "  <thead>\n",
       "    <tr style=\"text-align: right;\">\n",
       "      <th></th>\n",
       "      <th>Item No</th>\n",
       "      <th>Description</th>\n",
       "      <th>Count</th>\n",
       "      <th>Quote Sent</th>\n",
       "    </tr>\n",
       "  </thead>\n",
       "  <tbody>\n",
       "    <tr>\n",
       "      <td>0</td>\n",
       "      <td>1</td>\n",
       "      <td>Graphite Stick Pencils – Black – b2</td>\n",
       "      <td>1000</td>\n",
       "      <td>1100</td>\n",
       "    </tr>\n",
       "    <tr>\n",
       "      <td>1</td>\n",
       "      <td>2</td>\n",
       "      <td>Graphite Stick Pencils – Red – b2</td>\n",
       "      <td>1500</td>\n",
       "      <td>1100</td>\n",
       "    </tr>\n",
       "    <tr>\n",
       "      <td>2</td>\n",
       "      <td>3</td>\n",
       "      <td>Charcoal Pencils – Black</td>\n",
       "      <td>2500</td>\n",
       "      <td>1100</td>\n",
       "    </tr>\n",
       "    <tr>\n",
       "      <td>3</td>\n",
       "      <td>4</td>\n",
       "      <td>Color Pencils – Yellow</td>\n",
       "      <td>3000</td>\n",
       "      <td>1100</td>\n",
       "    </tr>\n",
       "    <tr>\n",
       "      <td>4</td>\n",
       "      <td>5</td>\n",
       "      <td>Graphite Stick Pencils – Black – b2</td>\n",
       "      <td>1000</td>\n",
       "      <td>1101</td>\n",
       "    </tr>\n",
       "    <tr>\n",
       "      <td>5</td>\n",
       "      <td>6</td>\n",
       "      <td>Graphite Stick Pencils – Red – b2</td>\n",
       "      <td>1500</td>\n",
       "      <td>1101</td>\n",
       "    </tr>\n",
       "  </tbody>\n",
       "</table>\n",
       "</div>"
      ],
      "text/plain": [
       "   Item No                          Description  Count  Quote Sent\n",
       "0        1  Graphite Stick Pencils – Black – b2   1000        1100\n",
       "1        2    Graphite Stick Pencils – Red – b2   1500        1100\n",
       "2        3             Charcoal Pencils – Black   2500        1100\n",
       "3        4               Color Pencils – Yellow   3000        1100\n",
       "4        5  Graphite Stick Pencils – Black – b2   1000        1101\n",
       "5        6    Graphite Stick Pencils – Red – b2   1500        1101"
      ]
     },
     "execution_count": 13,
     "metadata": {},
     "output_type": "execute_result"
    }
   ],
   "source": [
    "df_Quotes\n"
   ]
  },
  {
   "cell_type": "code",
   "execution_count": 194,
   "metadata": {},
   "outputs": [],
   "source": [
    "QuoteRegex=''\n",
    "for index,row in df_Quotes.iterrows():\n",
    "    if QuoteRegex=='':\n",
    "        QuoteRegex=row['Description']\n",
    "    else:\n",
    "        QuoteRegex=QuoteRegex +'|'+ row['Description']"
   ]
  },
  {
   "cell_type": "code",
   "execution_count": 195,
   "metadata": {},
   "outputs": [
    {
     "data": {
      "text/plain": [
       "'Graphite Stick Pencils – Black – b2|Graphite Stick Pencils – Red – b2|Charcoal Pencils – Black|Color Pencils – Yellow'"
      ]
     },
     "execution_count": 195,
     "metadata": {},
     "output_type": "execute_result"
    }
   ],
   "source": [
    "QuoteRegex"
   ]
  },
  {
   "cell_type": "code",
   "execution_count": 222,
   "metadata": {},
   "outputs": [],
   "source": [
    "Output_df = pd.DataFrame(columns=['Supplier Name', 'QuoteID', 'Item Name','Quote Sent'])\n"
   ]
  },
  {
   "cell_type": "code",
   "execution_count": 223,
   "metadata": {},
   "outputs": [
    {
     "data": {
      "text/html": [
       "<div>\n",
       "<style scoped>\n",
       "    .dataframe tbody tr th:only-of-type {\n",
       "        vertical-align: middle;\n",
       "    }\n",
       "\n",
       "    .dataframe tbody tr th {\n",
       "        vertical-align: top;\n",
       "    }\n",
       "\n",
       "    .dataframe thead th {\n",
       "        text-align: right;\n",
       "    }\n",
       "</style>\n",
       "<table border=\"1\" class=\"dataframe\">\n",
       "  <thead>\n",
       "    <tr style=\"text-align: right;\">\n",
       "      <th></th>\n",
       "      <th>Supplier Name</th>\n",
       "      <th>QuoteID</th>\n",
       "      <th>Item Name</th>\n",
       "      <th>Quote Sent</th>\n",
       "    </tr>\n",
       "  </thead>\n",
       "  <tbody>\n",
       "  </tbody>\n",
       "</table>\n",
       "</div>"
      ],
      "text/plain": [
       "Empty DataFrame\n",
       "Columns: [Supplier Name, QuoteID, Item Name, Quote Sent]\n",
       "Index: []"
      ]
     },
     "execution_count": 223,
     "metadata": {},
     "output_type": "execute_result"
    }
   ],
   "source": [
    "Output_df"
   ]
  },
  {
   "cell_type": "code",
   "execution_count": 247,
   "metadata": {},
   "outputs": [],
   "source": [
    "doc2=nlp(MyFile_STR.rsplit('Shailendra Varma Sagi <shailu.codepixer@outlook.com>')[0])"
   ]
  },
  {
   "cell_type": "code",
   "execution_count": 248,
   "metadata": {},
   "outputs": [
    {
     "name": "stdout",
     "output_type": "stream",
     "text": [
      "Cost of 1000 Graphite Stick Pencils – Black – b2 is 20$ per item  \n",
      "\n",
      "Cost of 1000 Graphite Stick Pencils – Red – b2 – is 15$ per item​\n",
      "\n",
      "\n",
      "next sen\n",
      "​\n",
      "\n",
      "\n",
      "next sen\n",
      "Cost of 2500 Charcoal Pencils – Black – is 12$ per item\n",
      "\n",
      "\n",
      "\n",
      "\n",
      "\n",
      "\n",
      "\n",
      "\n",
      "\n",
      "\n",
      "\n",
      "\n",
      "\n",
      "\n",
      "next sen\n",
      "Regards,\n",
      "\n",
      "\n",
      "\n",
      "\n",
      "\n",
      "\t\n",
      "\n",
      "\n",
      "next sen\n",
      "Abhijith S M\n",
      "\n",
      "\n",
      "\n",
      "\t\n",
      "\n",
      "\t\n",
      "\n",
      "\n",
      "next sen\n",
      "abhijithsm94@outlook.com\n",
      "\n",
      "\n",
      "next sen\n",
      "Phone: + 91 - 9940243959\n",
      "\n",
      "\n",
      "next sen\n",
      "1502 Vaikund Sundaram, Vendrasi Amman Kovil Street, Karappakam, Chennai, Tamil Nadu 60009, India\n",
      "\n",
      "\t\n",
      "\n",
      " \n",
      "next sen\n",
      "<https://twitter.com/ABHIJITH_SM>    <https://www.linkedin.com/in/abhijith-sm-723392184/>   <https://codetwocdn.azureedge.net/images/mail-signatures/generator/abstract-green/fb.png>  <https://www.youtube.com/user/CodeTwoChannel>  \n",
      "\n",
      "\t\n",
      "\n",
      " <https://codetwocdn.azureedge.net/images/mail-signatures/generator/abstract-green/pic-2.png> \t\n",
      "\n",
      "\n",
      "\n",
      "\t\n",
      "\n",
      "________________________________\n",
      "\n",
      "\n",
      "\n",
      "\n",
      "next sen\n",
      "From:\n",
      "next sen\n"
     ]
    }
   ],
   "source": [
    "for sent in doc2.sents:\n",
    "    print(sent.text)\n",
    "    \n",
    "    #for ent in nlp(sent.text).ents:\n",
    "        #print(ent.text, ent.start, ent.end, ent.start_char, ent.end_char, ent.label_)\n",
    "        \n",
    "    print('next sen')"
   ]
  },
  {
   "cell_type": "code",
   "execution_count": 249,
   "metadata": {},
   "outputs": [
    {
     "name": "stdout",
     "output_type": "stream",
     "text": [
      "Cost of 1000 Graphite Stick Pencils – Black – b2 is 20$ per item  \n",
      "\n",
      "Cost of 1000 Graphite Stick Pencils – Red – b2 – is 15$ per item​\n",
      "\n",
      "\n",
      "Too many regex strings in the statement\n",
      "​\n",
      "\n",
      "\n",
      "​\n",
      "\n",
      "\n",
      " No  Next Sentence Please\n",
      "\n",
      "Cost of 2500 Charcoal Pencils – Black – is 12$ per item\n",
      "\n",
      "\n",
      "\n",
      "\n",
      "\n",
      "\n",
      "\n",
      "\n",
      "\n",
      "\n",
      "\n",
      "\n",
      "\n",
      "\n",
      "[12$]\n",
      "Regards,\n",
      "\n",
      "\n",
      "\n",
      "\n",
      "\n",
      "\t\n",
      "\n",
      "\n",
      "Regards,\n",
      "\n",
      "\n",
      "\n",
      "\n",
      "\n",
      "\t\n",
      "\n",
      "\n",
      " No  Next Sentence Please\n",
      "\n",
      "Abhijith S M\n",
      "\n",
      "\n",
      "\n",
      "\t\n",
      "\n",
      "\t\n",
      "\n",
      "\n",
      "Abhijith S M\n",
      "\n",
      "\n",
      "\n",
      "\t\n",
      "\n",
      "\t\n",
      "\n",
      "\n",
      " No  Next Sentence Please\n",
      "\n",
      "abhijithsm94@outlook.com\n",
      "\n",
      "\n",
      "abhijithsm94@outlook.com\n",
      "\n",
      "\n",
      " No  Next Sentence Please\n",
      "\n",
      "Phone: + 91 - 9940243959\n",
      "\n",
      "\n",
      "Phone: + 91 - 9940243959\n",
      "\n",
      "\n",
      " No  Next Sentence Please\n",
      "\n",
      "1502 Vaikund Sundaram, Vendrasi Amman Kovil Street, Karappakam, Chennai, Tamil Nadu 60009, India\n",
      "\n",
      "\t\n",
      "\n",
      " \n",
      "1502 Vaikund Sundaram, Vendrasi Amman Kovil Street, Karappakam, Chennai, Tamil Nadu 60009, India\n",
      "\n",
      "\t\n",
      "\n",
      " \n",
      " No  Next Sentence Please\n",
      "\n",
      "<https://twitter.com/ABHIJITH_SM>    <https://www.linkedin.com/in/abhijith-sm-723392184/>   <https://codetwocdn.azureedge.net/images/mail-signatures/generator/abstract-green/fb.png>  <https://www.youtube.com/user/CodeTwoChannel>  \n",
      "\n",
      "\t\n",
      "\n",
      " <https://codetwocdn.azureedge.net/images/mail-signatures/generator/abstract-green/pic-2.png> \t\n",
      "\n",
      "\n",
      "\n",
      "\t\n",
      "\n",
      "________________________________\n",
      "\n",
      "\n",
      "\n",
      "\n",
      "<https://twitter.com/ABHIJITH_SM>    <https://www.linkedin.com/in/abhijith-sm-723392184/>   <https://codetwocdn.azureedge.net/images/mail-signatures/generator/abstract-green/fb.png>  <https://www.youtube.com/user/CodeTwoChannel>  \n",
      "\n",
      "\t\n",
      "\n",
      " <https://codetwocdn.azureedge.net/images/mail-signatures/generator/abstract-green/pic-2.png> \t\n",
      "\n",
      "\n",
      "\n",
      "\t\n",
      "\n",
      "________________________________\n",
      "\n",
      "\n",
      "\n",
      "\n",
      " No  Next Sentence Please\n",
      "\n",
      "From:\n",
      "From:\n",
      " No  Next Sentence Please\n",
      "\n"
     ]
    },
    {
     "data": {
      "text/html": [
       "<div>\n",
       "<style scoped>\n",
       "    .dataframe tbody tr th:only-of-type {\n",
       "        vertical-align: middle;\n",
       "    }\n",
       "\n",
       "    .dataframe tbody tr th {\n",
       "        vertical-align: top;\n",
       "    }\n",
       "\n",
       "    .dataframe thead th {\n",
       "        text-align: right;\n",
       "    }\n",
       "</style>\n",
       "<table border=\"1\" class=\"dataframe\">\n",
       "  <thead>\n",
       "    <tr style=\"text-align: right;\">\n",
       "      <th></th>\n",
       "      <th>Supplier Name</th>\n",
       "      <th>QuoteID</th>\n",
       "      <th>Item Name</th>\n",
       "      <th>Quote Sent</th>\n",
       "    </tr>\n",
       "  </thead>\n",
       "  <tbody>\n",
       "    <tr>\n",
       "      <td>0</td>\n",
       "      <td>Abhijith</td>\n",
       "      <td>1100</td>\n",
       "      <td>Charcoal Pencils – Black</td>\n",
       "      <td>$30000.0</td>\n",
       "    </tr>\n",
       "  </tbody>\n",
       "</table>\n",
       "</div>"
      ],
      "text/plain": [
       "  Supplier Name QuoteID                 Item Name Quote Sent\n",
       "0      Abhijith    1100  Charcoal Pencils – Black   $30000.0"
      ]
     },
     "execution_count": 249,
     "metadata": {},
     "output_type": "execute_result"
    }
   ],
   "source": [
    "\n",
    "for sent in doc2.sents:\n",
    "    Received_Quote=False\n",
    "    print(sent.text)\n",
    "    if len(re.findall(QuoteRegex,sent.text))==0 or sent.text =='\\n' :\n",
    "        print(sent.text)\n",
    "        print(\" No  Next Sentence Please\\n\")\n",
    "    else:\n",
    "        if len(re.findall(QuoteRegex,sent.text))==1:\n",
    "            if is_per(sent.text):\n",
    "                Count=int(df_Quotes[ df_Quotes['Description'] == re.search(QuoteRegex,sent.text).group() ]['Count'].iloc[0])\n",
    "            else:\n",
    "                Count=1\n",
    "            Money_list=[ent for ent in nlp(sent.text).ents if ent.label_ == 'MONEY']\n",
    "            print(Money_list)\n",
    "            if len(Money_list)>=1:\n",
    "                if len(Money_list)==1:\n",
    "                    for ent in nlp(sent.text).ents:\n",
    "                        if ent.label_ == 'MONEY':\n",
    "                            if len(re.findall(r'[1-9](\\d+)*(,\\d{1,})*([\\.][\\d]+)?',ent.text))==1:\n",
    "                                Quote_sent=str(round((float(re.search(r'[1-9](\\d+)*(,\\d{1,})*([\\.][\\d]+)?',ent.text).group().replace(',',''))*int(Count)),2))\n",
    "                                if get_currency(sent.text) != 0:\n",
    "                                    Quote_sent=get_currency(sent.text)+Quote_sent\n",
    "                                else:\n",
    "                                    print('Unidentified currency please add it to the data base')\n",
    "                                Received_Quote=True\n",
    "                            else:\n",
    "                                print('Unable to find actual money in money entity')\n",
    "                elif len(re.findall(r'[1-9](\\d+)*(,\\d{1,})*([\\.][\\d]+)?',sent.text))>=1 and get_currency(sent.text)!=0:\n",
    "                    Quote_sent=str(round((float(get_nearest_no(sent.text).replace(',',''))*int(Count)),2))\n",
    "                    Quote_sent=get_currency(sent.text)+Quote_sent\n",
    "                    Received_Quote=True\n",
    "                else:\n",
    "                    print(\"Unable to get currency from the string please check\")\n",
    "            elif len(re.findall(r'[1-9](\\d+)*(,\\d{1,})*([\\.][\\d]+)?',sent.text))==1 and get_currency(sent.text)!=0:\n",
    "                Quote_sent=str(round(float(re.search(r'[1-9](\\d+)*(,\\d{1,})*([\\.][\\d]+)?',sent.text).group().replace(',',''))*int(Count)),2)\n",
    "                Quote_sent=get_currency(sent.text)+Quote_sent\n",
    "                Received_Quote=True\n",
    "            elif len(re.findall(r'[1-9](\\d+)*(,\\d{1,})*([\\.][\\d]+)?',sent.text))>=1 and get_currency(sent.text)!=0:\n",
    "                Quote_sent=str(round((float(get_nearest_no(sent.text).replace(',',''))*int(Count)),2))\n",
    "                Quote_sent=get_currency(sent.text)+Quote_sent\n",
    "                Received_Quote=True\n",
    "            else:\n",
    "                print('No money component present')\n",
    "                                \n",
    "            if Received_Quote==True:\n",
    "                if Quote_sent[-1]=='.':\n",
    "                    Quote_sent=Quote_sent[0:-1]\n",
    "                new_row = {'Supplier Name':supplier, 'QuoteID':Quote, 'Item Name':re.findall(QuoteRegex,sent.text)[0],'Quote Sent':Quote_sent}\n",
    "                Output_df=Output_df.append(new_row,ignore_index=True)\n",
    "                \n",
    "        else:\n",
    "            print(\"Too many regex strings in the statement\")\n",
    "Output_df"
   ]
  },
  {
   "cell_type": "code",
   "execution_count": 33,
   "metadata": {},
   "outputs": [],
   "source": [
    "Output_df.to_excel(writer, index=False)\n",
    "Output_df.to_excel(writer, startrow=len(Output_df)+2, index=False)\n",
    "writer.save()"
   ]
  },
  {
   "cell_type": "code",
   "execution_count": 94,
   "metadata": {},
   "outputs": [
    {
     "ename": "TypeError",
     "evalue": "'generator' object is not subscriptable",
     "output_type": "error",
     "traceback": [
      "\u001b[1;31m---------------------------------------------------------------------------\u001b[0m",
      "\u001b[1;31mTypeError\u001b[0m                                 Traceback (most recent call last)",
      "\u001b[1;32m<ipython-input-94-1d1d1cca8c6d>\u001b[0m in \u001b[0;36m<module>\u001b[1;34m\u001b[0m\n\u001b[1;32m----> 1\u001b[1;33m \u001b[0mdoc2\u001b[0m\u001b[1;33m.\u001b[0m\u001b[0msents\u001b[0m\u001b[1;33m[\u001b[0m\u001b[1;36m1\u001b[0m\u001b[1;33m]\u001b[0m\u001b[1;33m.\u001b[0m\u001b[0mtext\u001b[0m\u001b[1;33m\u001b[0m\u001b[1;33m\u001b[0m\u001b[0m\n\u001b[0m",
      "\u001b[1;31mTypeError\u001b[0m: 'generator' object is not subscriptable"
     ]
    }
   ],
   "source": [
    "doc2.sents[1].text\n"
   ]
  },
  {
   "cell_type": "code",
   "execution_count": 106,
   "metadata": {},
   "outputs": [
    {
     "ename": "SyntaxError",
     "evalue": "invalid syntax (<ipython-input-106-b787ae587b59>, line 14)",
     "output_type": "error",
     "traceback": [
      "\u001b[1;36m  File \u001b[1;32m\"<ipython-input-106-b787ae587b59>\"\u001b[1;36m, line \u001b[1;32m14\u001b[0m\n\u001b[1;33m    else:+)?\u001b[0m\n\u001b[1;37m          ^\u001b[0m\n\u001b[1;31mSyntaxError\u001b[0m\u001b[1;31m:\u001b[0m invalid syntax\n"
     ]
    }
   ],
   "source": [
    "for sent in doc2.sents:\n",
    "    print(sent.text)\n",
    "    if len(re.findall(QuoteRegex,sent.text))==0 and sent.text !='\\n' :\n",
    "        print(sent.text)\n",
    "        print(\" No  Next Sentence Please\\n\")\n",
    "    else:\n",
    "        if len(re.findall(QuoteRegex,sent.text))==1:\n",
    "            Money_list=[ent for ent in nlp(sent.text).ents if ent.label_ == 'MONEY']\n",
    "            print(Money_list)\n",
    "            \n",
    "            if len(re.findall(r'[£,$][1-9][\\.\\d]*(,\\d+)?|[1-9][\\.\\d]*(,\\d+)[£,$]?',sent.text))==1:\n",
    "                if re.search(r'[£,$][1-9][\\.\\d]*(,\\d+)?|[1-9][\\.\\d]*(,\\d+)[£,$]?',sent.text).group()[-1]=='.':\n",
    "                    Quote_sent=re.search(r'[£,$][1-9][\\.\\d]*(,\\d+)?|[1-9][\\.\\d]*(,\\d+)[£,$]?',sent.text).group()[0:-1]\n",
    "                else:+)?\n",
    "                    Quote_sent=re.search(r'[£,$][1-9][\\.\\d]*(,\\d|[1-9][\\.\\d]*(,\\d+)[£,$]?',sent.text).group()\n",
    "                new_row = {'Supplier Name':supplier, 'QuoteID':Quote, 'Item Name':re.findall(QuoteRegex,sent.text)[0],'Quote Sent':Quote_sent}\n",
    "                Output_df=Output_df.append(new_row,ignore_index=True)\n",
    "            elif len(Money_list)>=1:\n",
    "                if len(Money_list)==1:\n",
    "                    for ent in nlp(sent.text).ents:\n",
    "                        if len(re.findall(r'[1-9][\\.\\d]*(,\\d+)?',ent.text))==1:\n",
    "                            if re.search(r'[1-9][\\.\\d]*(,\\d+)?',ent.text).group()[-1]=='.':\n",
    "                                Quote_sent=re.search(r'[1-9][\\.\\d]*(,\\d+)?',sent.text).group()[0:-1]\n",
    "                            else:\n",
    "                                Quote_sent=re.search(r'[1-9][\\.\\d]*(,\\d+)?',sent.text).group()\n",
    "                            new_row = {'Supplier Name':supplier, 'QuoteID':Quote, 'Item Name':re.findall(QuoteRegex,sent.text)[0],'Quote Sent':Quote_sent}\n",
    "                            Output_df=Output_df.append(new_row,ignore_index=True)\n",
    "                        else:\n",
    "                            print('Unable to find actual money in money entity')\n",
    "                else:\n",
    "                    print(\"To money eqts in sentence\")\n",
    "            else:\n",
    "                print('Unable to find money in sentence')\n",
    "                \n",
    "\n",
    "            \n",
    "                    #print(re.findall(QuoteRegex,sent.text)[0]+'     '+ re.search(r'[£,$][1-9][\\.\\d]*(,\\d+)?',sent.text).group())\n",
    "        else:\n",
    "            print('To many item names in a sentence')\n",
    "Output_df"
   ]
  },
  {
   "cell_type": "code",
   "execution_count": 105,
   "metadata": {},
   "outputs": [],
   "source": [
    "def get_currency(text):\n",
    "    Flag=0\n",
    "    df_Symbols = pd.read_excel('C:\\\\Users\\\\slice\\\\NLP POC\\\\NLP_Quotation\\\\Input\\\\Currency Symbols.xlsx')\n",
    "    for index, row in df_Symbols.iterrows():\n",
    "        if str(row['Text']).lower() in text.lower():\n",
    "            Flag=1\n",
    "            return str(row['Symbol']);\n",
    "            break\n",
    "    if Flag==0:\n",
    "        return 0;\n"
   ]
  },
  {
   "cell_type": "code",
   "execution_count": 55,
   "metadata": {},
   "outputs": [
    {
     "data": {
      "text/plain": [
       "0"
      ]
     },
     "execution_count": 55,
     "metadata": {},
     "output_type": "execute_result"
    }
   ],
   "source": [
    "get_currency('doasd')"
   ]
  },
  {
   "cell_type": "code",
   "execution_count": 104,
   "metadata": {},
   "outputs": [],
   "source": [
    "def is_per(text):\n",
    "    Flag=0\n",
    "    df_strings= pd.read_excel('C:\\\\Users\\\\slice\\\\NLP POC\\\\NLP_Quotation\\\\Input\\\\per.xlsx')\n",
    "    for index, row in df_strings.iterrows():\n",
    "        if str(row['String']).lower() in text.lower():\n",
    "            Flag=1\n",
    "            return True;\n",
    "    if Flag==0:\n",
    "        return False;\n",
    "    "
   ]
  },
  {
   "cell_type": "code",
   "execution_count": 58,
   "metadata": {},
   "outputs": [
    {
     "data": {
      "text/plain": [
       "True"
      ]
     },
     "execution_count": 58,
     "metadata": {},
     "output_type": "execute_result"
    }
   ],
   "source": [
    "is_per(' as per each')"
   ]
  },
  {
   "cell_type": "code",
   "execution_count": 65,
   "metadata": {},
   "outputs": [
    {
     "ename": "ValueError",
     "evalue": "could not convert string to float: '3,000.05'",
     "output_type": "error",
     "traceback": [
      "\u001b[1;31m---------------------------------------------------------------------------\u001b[0m",
      "\u001b[1;31mValueError\u001b[0m                                Traceback (most recent call last)",
      "\u001b[1;32m<ipython-input-65-eb206fb149a5>\u001b[0m in \u001b[0;36m<module>\u001b[1;34m\u001b[0m\n\u001b[1;32m----> 1\u001b[1;33m \u001b[0mround\u001b[0m\u001b[1;33m(\u001b[0m\u001b[0mfloat\u001b[0m\u001b[1;33m(\u001b[0m\u001b[1;34m'3,000.05'\u001b[0m\u001b[1;33m)\u001b[0m\u001b[1;33m*\u001b[0m\u001b[1;36m3\u001b[0m\u001b[1;33m,\u001b[0m\u001b[1;36m2\u001b[0m\u001b[1;33m)\u001b[0m\u001b[1;33m\u001b[0m\u001b[1;33m\u001b[0m\u001b[0m\n\u001b[0m",
      "\u001b[1;31mValueError\u001b[0m: could not convert string to float: '3,000.05'"
     ]
    }
   ],
   "source": [
    "round(float('3,000.05')*3,2)"
   ]
  },
  {
   "cell_type": "code",
   "execution_count": null,
   "metadata": {},
   "outputs": [],
   "source": []
  }
 ],
 "metadata": {
  "kernelspec": {
   "display_name": "Python 3",
   "language": "python",
   "name": "python3"
  },
  "language_info": {
   "codemirror_mode": {
    "name": "ipython",
    "version": 3
   },
   "file_extension": ".py",
   "mimetype": "text/x-python",
   "name": "python",
   "nbconvert_exporter": "python",
   "pygments_lexer": "ipython3",
   "version": "3.7.4"
  }
 },
 "nbformat": 4,
 "nbformat_minor": 2
}
