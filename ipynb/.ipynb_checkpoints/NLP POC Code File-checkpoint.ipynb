{
 "cells": [
  {
   "cell_type": "code",
   "execution_count": 42,
   "metadata": {},
   "outputs": [],
   "source": [
    "import pandas as pd"
   ]
  },
  {
   "cell_type": "code",
   "execution_count": 43,
   "metadata": {},
   "outputs": [],
   "source": [
    "from pandas import ExcelWriter\n",
    "from pandas import ExcelFile"
   ]
  },
  {
   "cell_type": "code",
   "execution_count": 44,
   "metadata": {},
   "outputs": [],
   "source": [
    "import re"
   ]
  },
  {
   "cell_type": "code",
   "execution_count": 47,
   "metadata": {},
   "outputs": [],
   "source": [
    "df_Quotes = pd.read_excel('C:\\\\Users\\\\slice\\\\NLP POC\\\\NLP_Quotation\\\\Input\\\\Quotes.xlsx')"
   ]
  },
  {
   "cell_type": "code",
   "execution_count": 48,
   "metadata": {},
   "outputs": [
    {
     "data": {
      "text/html": [
       "<div>\n",
       "<style scoped>\n",
       "    .dataframe tbody tr th:only-of-type {\n",
       "        vertical-align: middle;\n",
       "    }\n",
       "\n",
       "    .dataframe tbody tr th {\n",
       "        vertical-align: top;\n",
       "    }\n",
       "\n",
       "    .dataframe thead th {\n",
       "        text-align: right;\n",
       "    }\n",
       "</style>\n",
       "<table border=\"1\" class=\"dataframe\">\n",
       "  <thead>\n",
       "    <tr style=\"text-align: right;\">\n",
       "      <th></th>\n",
       "      <th>Item No</th>\n",
       "      <th>Description</th>\n",
       "      <th>Count</th>\n",
       "      <th>Quote Sent</th>\n",
       "    </tr>\n",
       "  </thead>\n",
       "  <tbody>\n",
       "    <tr>\n",
       "      <td>0</td>\n",
       "      <td>1</td>\n",
       "      <td>Graphite Stick Pencils – Black – b2</td>\n",
       "      <td>1000</td>\n",
       "      <td>1100</td>\n",
       "    </tr>\n",
       "    <tr>\n",
       "      <td>1</td>\n",
       "      <td>2</td>\n",
       "      <td>Graphite Stick Pencils – Red – b2</td>\n",
       "      <td>1500</td>\n",
       "      <td>1100</td>\n",
       "    </tr>\n",
       "    <tr>\n",
       "      <td>2</td>\n",
       "      <td>3</td>\n",
       "      <td>Charcoal Pencils – Black</td>\n",
       "      <td>2500</td>\n",
       "      <td>1100</td>\n",
       "    </tr>\n",
       "    <tr>\n",
       "      <td>3</td>\n",
       "      <td>4</td>\n",
       "      <td>Color Pencils – Yellow</td>\n",
       "      <td>3000</td>\n",
       "      <td>1100</td>\n",
       "    </tr>\n",
       "    <tr>\n",
       "      <td>4</td>\n",
       "      <td>5</td>\n",
       "      <td>Graphite Stick Pencils – Black – b2</td>\n",
       "      <td>1000</td>\n",
       "      <td>1101</td>\n",
       "    </tr>\n",
       "    <tr>\n",
       "      <td>5</td>\n",
       "      <td>6</td>\n",
       "      <td>Graphite Stick Pencils – Red – b2</td>\n",
       "      <td>1500</td>\n",
       "      <td>1101</td>\n",
       "    </tr>\n",
       "  </tbody>\n",
       "</table>\n",
       "</div>"
      ],
      "text/plain": [
       "   Item No                          Description  Count  Quote Sent\n",
       "0        1  Graphite Stick Pencils – Black – b2   1000        1100\n",
       "1        2    Graphite Stick Pencils – Red – b2   1500        1100\n",
       "2        3             Charcoal Pencils – Black   2500        1100\n",
       "3        4               Color Pencils – Yellow   3000        1100\n",
       "4        5  Graphite Stick Pencils – Black – b2   1000        1101\n",
       "5        6    Graphite Stick Pencils – Red – b2   1500        1101"
      ]
     },
     "execution_count": 48,
     "metadata": {},
     "output_type": "execute_result"
    }
   ],
   "source": [
    "df_Quotes"
   ]
  },
  {
   "cell_type": "code",
   "execution_count": 49,
   "metadata": {},
   "outputs": [],
   "source": [
    "df_Supplier = pd.read_excel('C:\\\\Users\\\\slice\\\\NLP POC\\\\NLP_Quotation\\\\Input\\\\Supplier.xlsx')"
   ]
  },
  {
   "cell_type": "code",
   "execution_count": 50,
   "metadata": {},
   "outputs": [
    {
     "data": {
      "text/html": [
       "<div>\n",
       "<style scoped>\n",
       "    .dataframe tbody tr th:only-of-type {\n",
       "        vertical-align: middle;\n",
       "    }\n",
       "\n",
       "    .dataframe tbody tr th {\n",
       "        vertical-align: top;\n",
       "    }\n",
       "\n",
       "    .dataframe thead th {\n",
       "        text-align: right;\n",
       "    }\n",
       "</style>\n",
       "<table border=\"1\" class=\"dataframe\">\n",
       "  <thead>\n",
       "    <tr style=\"text-align: right;\">\n",
       "      <th></th>\n",
       "      <th>Supplier No</th>\n",
       "      <th>Supplier Name</th>\n",
       "      <th>Supplier Email</th>\n",
       "    </tr>\n",
       "  </thead>\n",
       "  <tbody>\n",
       "    <tr>\n",
       "      <td>0</td>\n",
       "      <td>1</td>\n",
       "      <td>Abhijith</td>\n",
       "      <td>abhijith.codepixer@outlook.com</td>\n",
       "    </tr>\n",
       "    <tr>\n",
       "      <td>1</td>\n",
       "      <td>2</td>\n",
       "      <td>Shailendra</td>\n",
       "      <td>s.shailendravarma@gmail.com</td>\n",
       "    </tr>\n",
       "  </tbody>\n",
       "</table>\n",
       "</div>"
      ],
      "text/plain": [
       "   Supplier No Supplier Name                  Supplier Email\n",
       "0            1      Abhijith  abhijith.codepixer@outlook.com\n",
       "1            2    Shailendra     s.shailendravarma@gmail.com"
      ]
     },
     "execution_count": 50,
     "metadata": {},
     "output_type": "execute_result"
    }
   ],
   "source": [
    "df_Supplier"
   ]
  },
  {
   "cell_type": "code",
   "execution_count": 13,
   "metadata": {},
   "outputs": [],
   "source": [
    "writer = pd.ExcelWriter('C:\\\\Users\\\\slice\\\\NLP POC\\\\NLP_Quotation\\\\Input\\\\Received Quotes.xlsx',engine='openpyxl')"
   ]
  },
  {
   "cell_type": "code",
   "execution_count": 51,
   "metadata": {},
   "outputs": [],
   "source": [
    "import spacy\n",
    "nlp = spacy.load('en_core_web_sm')"
   ]
  },
  {
   "cell_type": "code",
   "execution_count": 52,
   "metadata": {},
   "outputs": [],
   "source": [
    "# CHANGING THE RULES\n",
    "from spacy.pipeline import SentenceSegmenter\n",
    "\n",
    "def split_on_newlines(doc):\n",
    "    start = 0 \n",
    "    seen_newline = False\n",
    "    for word in doc:\n",
    "        if seen_newline:\n",
    "            yield doc[start:word.i]\n",
    "            start = word.i\n",
    "            seen_newline = False\n",
    "        elif word.text.startswith('\\n'): # handles multiple occurrences\n",
    "            seen_newline = True\n",
    "    yield doc[start:]      # handles the last group of tokens\n",
    "\n",
    "\n",
    "sbd = SentenceSegmenter(nlp.vocab, strategy=split_on_newlines)\n",
    "nlp.add_pipe(sbd)"
   ]
  },
  {
   "cell_type": "code",
   "execution_count": 53,
   "metadata": {},
   "outputs": [
    {
     "name": "stdout",
     "output_type": "stream",
     "text": [
      "****Folder Name**********************************\n",
      "shailu.codepixer@outlook.com\n",
      "*************************************************\n"
     ]
    }
   ],
   "source": [
    "#myfile = open('C:\\\\Users\\\\slice\\\\OneDrive\\\\Desktop\\\\Template3.txt')\n",
    "import win32com.client\n",
    "\n",
    "outlook = win32com.client.Dispatch(\"Outlook.Application\").GetNamespace(\"MAPI\")\n",
    "\n",
    "#inbox = outlook.GetDefaultFolder(6) # \"6\" refers to the index of a folder - in this case,\n",
    "                                    # the inbox. You can change that number to reference\n",
    "                                    # any other folder\n",
    "\n",
    "for folder in outlook.Folders:\n",
    "    print(\"****Folder Name**********************************\")\n",
    "    print(folder)\n",
    "    \n",
    "    print(\"*************************************************\")\n",
    "    for folder1 in folder.Folders:\n",
    "        if str(folder1)=='POC':\n",
    "            req_folder=folder1\n",
    "messages = req_folder.Items\n",
    "message = messages.GetFirst()\n",
    "body_content = message.body\n"
   ]
  },
  {
   "cell_type": "code",
   "execution_count": 54,
   "metadata": {},
   "outputs": [],
   "source": [
    "MyFile_STR=body_content"
   ]
  },
  {
   "cell_type": "code",
   "execution_count": 55,
   "metadata": {},
   "outputs": [
    {
     "data": {
      "text/plain": [
       "'Thanks for your note – appreciated. \\r\\n\\r\\nWe don’t have the Graphite Stick Pencils – however the following are available and the costs are:\\r\\n\\r\\n\\r\\n\\r\\n\\r\\nGraphite Stick Pencils – Red – b2 – 1500 Numbers - $3000\\r\\n\\r\\nCharcoal Pencils – Black – 2500 - $3000\\r\\n\\r\\n\\r\\n\\r\\n\\r\\nLooking forward to hearing back from you.\\r\\n\\r\\nThanks for your business\\r\\n\\r\\n\\r\\n\\r\\n\\r\\n\\r\\n\\r\\nRegards,\\r\\n\\r\\n\\r\\n\\t\\r\\nAbhijith S M\\r\\n\\r\\n\\t\\r\\n\\t\\r\\nabhijithsm94@outlook.com\\r\\nPhone: + 91 - 9940243959\\r\\n1502 Vaikund Sundaram, Vendrasi Amman Kovil Street, Karappakam, Chennai, Tamil Nadu 60009, India\\r\\n\\t\\r\\n <https://twitter.com/ABHIJITH_SM>    <https://www.linkedin.com/in/abhijith-sm-723392184/>   <https://codetwocdn.azureedge.net/images/mail-signatures/generator/abstract-green/fb.png>  <https://www.youtube.com/user/CodeTwoChannel>  \\r\\n\\t\\r\\n <https://codetwocdn.azureedge.net/images/mail-signatures/generator/abstract-green/pic-2.png> \\t\\r\\n\\r\\n\\t\\r\\n\\r\\n________________________________\\r\\n\\r\\nFrom: Shailendra Varma Sagi <shailu.codepixer@outlook.com>\\r\\nSent: Sunday, February 16, 2020 11:01 PM\\r\\nTo: Abhijith.Codepixer@outlook.com <Abhijith.Codepixer@outlook.com>\\r\\nSubject: Quotations for pencils \\r\\n \\r\\nQuote NO:#1101\\r\\n\\r\\n\\r\\nSupplier Name:Abhijith\\r\\n\\r\\n\\r\\nThanks for being a supplier for us. We would like to get a quote from you for the following items:\\r\\n\\r\\n\\u200b\\r\\nGraphite Stick Pencils – Black – b2 – 1000 Numbers\\u200b\\r\\n\\u200b\\r\\nGraphite Stick Pencils – Red – b2 – 1500 Numbers\\u200b\\r\\n \\u200b\\r\\n\\u200b\\r\\nPlease respond with your quotes by 2/20/2020.\\u200b\\r\\n\\u200b\\r\\nLooking forward to hearing back from you.\\u200b\\r\\n\\u200b\\r\\nThanks\\r\\n\\r\\nShailendra\\r\\n'"
      ]
     },
     "execution_count": 55,
     "metadata": {},
     "output_type": "execute_result"
    }
   ],
   "source": [
    "MyFile_STR"
   ]
  },
  {
   "cell_type": "code",
   "execution_count": 56,
   "metadata": {},
   "outputs": [],
   "source": [
    "MyFile_STR=MyFile_STR.replace('\\r','')"
   ]
  },
  {
   "cell_type": "code",
   "execution_count": 39,
   "metadata": {},
   "outputs": [
    {
     "name": "stdout",
     "output_type": "stream",
     "text": [
      "****Folder Name**********************************\n",
      "shailu.codepixer@outlook.com\n",
      "*************************************************\n"
     ]
    }
   ],
   "source": [
    "\n",
    "    "
   ]
  },
  {
   "cell_type": "code",
   "execution_count": 40,
   "metadata": {},
   "outputs": [],
   "source": [
    "messages = req_folder.Items\n",
    "message = messages.GetFirst()\n",
    "body_content = message.body"
   ]
  },
  {
   "cell_type": "code",
   "execution_count": 41,
   "metadata": {},
   "outputs": [
    {
     "data": {
      "text/plain": [
       "'Thanks for your note – appreciated. \\r\\n\\r\\nWe don’t have the Graphite Stick Pencils – however the following are available and the costs are:\\r\\n\\r\\n\\r\\n\\r\\n\\r\\nGraphite Stick Pencils – Red – b2 – 1500 Numbers - $3000\\r\\n\\r\\nCharcoal Pencils – Black – 2500 - $3000\\r\\n\\r\\n\\r\\n\\r\\n\\r\\nLooking forward to hearing back from you.\\r\\n\\r\\nThanks for your business\\r\\n\\r\\n\\r\\n\\r\\n\\r\\n\\r\\n\\r\\nRegards,\\r\\n\\r\\n\\r\\n\\t\\r\\nAbhijith S M\\r\\n\\r\\n\\t\\r\\n\\t\\r\\nabhijithsm94@outlook.com\\r\\nPhone: + 91 - 9940243959\\r\\n1502 Vaikund Sundaram, Vendrasi Amman Kovil Street, Karappakam, Chennai, Tamil Nadu 60009, India\\r\\n\\t\\r\\n <https://twitter.com/ABHIJITH_SM>    <https://www.linkedin.com/in/abhijith-sm-723392184/>   <https://codetwocdn.azureedge.net/images/mail-signatures/generator/abstract-green/fb.png>  <https://www.youtube.com/user/CodeTwoChannel>  \\r\\n\\t\\r\\n <https://codetwocdn.azureedge.net/images/mail-signatures/generator/abstract-green/pic-2.png> \\t\\r\\n\\r\\n\\t\\r\\n\\r\\n________________________________\\r\\n\\r\\nFrom: Shailendra Varma Sagi <shailu.codepixer@outlook.com>\\r\\nSent: Sunday, February 16, 2020 11:01 PM\\r\\nTo: Abhijith.Codepixer@outlook.com <Abhijith.Codepixer@outlook.com>\\r\\nSubject: Quotations for pencils \\r\\n \\r\\nQuote NO:#1101\\r\\n\\r\\n\\r\\nSupplier Name:Abhijith\\r\\n\\r\\n\\r\\nThanks for being a supplier for us. We would like to get a quote from you for the following items:\\r\\n\\r\\n\\u200b\\r\\nGraphite Stick Pencils – Black – b2 – 1000 Numbers\\u200b\\r\\n\\u200b\\r\\nGraphite Stick Pencils – Red – b2 – 1500 Numbers\\u200b\\r\\n \\u200b\\r\\n\\u200b\\r\\nPlease respond with your quotes by 2/20/2020.\\u200b\\r\\n\\u200b\\r\\nLooking forward to hearing back from you.\\u200b\\r\\n\\u200b\\r\\nThanks\\r\\n\\r\\nShailendra\\r\\n'"
      ]
     },
     "execution_count": 41,
     "metadata": {},
     "output_type": "execute_result"
    }
   ],
   "source": [
    "body_content"
   ]
  },
  {
   "cell_type": "code",
   "execution_count": 64,
   "metadata": {},
   "outputs": [
    {
     "data": {
      "text/plain": [
       "0"
      ]
     },
     "execution_count": 64,
     "metadata": {},
     "output_type": "execute_result"
    }
   ],
   "source": [
    "myfile.seek(0)"
   ]
  },
  {
   "cell_type": "code",
   "execution_count": 15,
   "metadata": {},
   "outputs": [
    {
     "name": "stdout",
     "output_type": "stream",
     "text": [
      "<COMObject <unknown>>\n"
     ]
    }
   ],
   "source": [
    "print(messages)\n"
   ]
  },
  {
   "cell_type": "code",
   "execution_count": 49,
   "metadata": {},
   "outputs": [],
   "source": []
  },
  {
   "cell_type": "code",
   "execution_count": 57,
   "metadata": {},
   "outputs": [
    {
     "data": {
      "text/plain": [
       "2"
      ]
     },
     "execution_count": 57,
     "metadata": {},
     "output_type": "execute_result"
    }
   ],
   "source": [
    "len(MyFile_STR.rsplit('Shailendra Varma Sagi <shailu.codepixer@outlook.com>'))"
   ]
  },
  {
   "cell_type": "code",
   "execution_count": 58,
   "metadata": {},
   "outputs": [
    {
     "data": {
      "text/plain": [
       "'Thanks for your note – appreciated. \\n\\nWe don’t have the Graphite Stick Pencils – however the following are available and the costs are:\\n\\n\\n\\n\\nGraphite Stick Pencils – Red – b2 – 1500 Numbers - $3000\\n\\nCharcoal Pencils – Black – 2500 - $3000\\n\\n\\n\\n\\nLooking forward to hearing back from you.\\n\\nThanks for your business\\n\\n\\n\\n\\n\\n\\nRegards,\\n\\n\\n\\t\\nAbhijith S M\\n\\n\\t\\n\\t\\nabhijithsm94@outlook.com\\nPhone: + 91 - 9940243959\\n1502 Vaikund Sundaram, Vendrasi Amman Kovil Street, Karappakam, Chennai, Tamil Nadu 60009, India\\n\\t\\n <https://twitter.com/ABHIJITH_SM>    <https://www.linkedin.com/in/abhijith-sm-723392184/>   <https://codetwocdn.azureedge.net/images/mail-signatures/generator/abstract-green/fb.png>  <https://www.youtube.com/user/CodeTwoChannel>  \\n\\t\\n <https://codetwocdn.azureedge.net/images/mail-signatures/generator/abstract-green/pic-2.png> \\t\\n\\n\\t\\n\\n________________________________\\n\\nFrom: '"
      ]
     },
     "execution_count": 58,
     "metadata": {},
     "output_type": "execute_result"
    }
   ],
   "source": [
    "MyFile_STR.rsplit('Shailendra Varma Sagi <shailu.codepixer@outlook.com>')[0]"
   ]
  },
  {
   "cell_type": "code",
   "execution_count": 59,
   "metadata": {},
   "outputs": [],
   "source": [
    " x=re.search(r'\\nQuote NO:#[\\d]{4}\\n',MyFile_STR.rsplit('Shailendra Varma Sagi <shailu.codepixer@outlook.com>')[1]).group()"
   ]
  },
  {
   "cell_type": "code",
   "execution_count": 60,
   "metadata": {},
   "outputs": [],
   "source": [
    "Quote=re.search(r'[\\d]{4}',x).group()"
   ]
  },
  {
   "cell_type": "code",
   "execution_count": 61,
   "metadata": {},
   "outputs": [
    {
     "data": {
      "text/plain": [
       "'1101'"
      ]
     },
     "execution_count": 61,
     "metadata": {},
     "output_type": "execute_result"
    }
   ],
   "source": [
    "Quote"
   ]
  },
  {
   "cell_type": "code",
   "execution_count": 62,
   "metadata": {},
   "outputs": [],
   "source": [
    " x=re.search(r'\\nSupplier Name:[\\w{8,16}]*\\n',MyFile_STR.rsplit('Shailendra Varma Sagi <shailu.codepixer@outlook.com>')[1]).group()"
   ]
  },
  {
   "cell_type": "code",
   "execution_count": 63,
   "metadata": {},
   "outputs": [],
   "source": [
    "supplier=x.replace('\\nSupplier Name:','').replace('\\n','')"
   ]
  },
  {
   "cell_type": "code",
   "execution_count": 64,
   "metadata": {},
   "outputs": [
    {
     "data": {
      "text/plain": [
       "'Abhijith'"
      ]
     },
     "execution_count": 64,
     "metadata": {},
     "output_type": "execute_result"
    }
   ],
   "source": [
    "supplier"
   ]
  },
  {
   "cell_type": "code",
   "execution_count": 65,
   "metadata": {},
   "outputs": [],
   "source": [
    "df_Quotes = df_Quotes[ df_Quotes['Quote Sent'] == int(Quote) ]\n"
   ]
  },
  {
   "cell_type": "code",
   "execution_count": 66,
   "metadata": {},
   "outputs": [
    {
     "data": {
      "text/html": [
       "<div>\n",
       "<style scoped>\n",
       "    .dataframe tbody tr th:only-of-type {\n",
       "        vertical-align: middle;\n",
       "    }\n",
       "\n",
       "    .dataframe tbody tr th {\n",
       "        vertical-align: top;\n",
       "    }\n",
       "\n",
       "    .dataframe thead th {\n",
       "        text-align: right;\n",
       "    }\n",
       "</style>\n",
       "<table border=\"1\" class=\"dataframe\">\n",
       "  <thead>\n",
       "    <tr style=\"text-align: right;\">\n",
       "      <th></th>\n",
       "      <th>Item No</th>\n",
       "      <th>Description</th>\n",
       "      <th>Count</th>\n",
       "      <th>Quote Sent</th>\n",
       "    </tr>\n",
       "  </thead>\n",
       "  <tbody>\n",
       "    <tr>\n",
       "      <td>4</td>\n",
       "      <td>5</td>\n",
       "      <td>Graphite Stick Pencils – Black – b2</td>\n",
       "      <td>1000</td>\n",
       "      <td>1101</td>\n",
       "    </tr>\n",
       "    <tr>\n",
       "      <td>5</td>\n",
       "      <td>6</td>\n",
       "      <td>Graphite Stick Pencils – Red – b2</td>\n",
       "      <td>1500</td>\n",
       "      <td>1101</td>\n",
       "    </tr>\n",
       "  </tbody>\n",
       "</table>\n",
       "</div>"
      ],
      "text/plain": [
       "   Item No                          Description  Count  Quote Sent\n",
       "4        5  Graphite Stick Pencils – Black – b2   1000        1101\n",
       "5        6    Graphite Stick Pencils – Red – b2   1500        1101"
      ]
     },
     "execution_count": 66,
     "metadata": {},
     "output_type": "execute_result"
    }
   ],
   "source": [
    "df_Quotes\n"
   ]
  },
  {
   "cell_type": "code",
   "execution_count": 68,
   "metadata": {},
   "outputs": [],
   "source": [
    "QuoteRegex=''\n",
    "for index,row in df_Quotes.iterrows():\n",
    "    if QuoteRegex=='':\n",
    "        QuoteRegex=row['Description']\n",
    "    else:\n",
    "        QuoteRegex=QuoteRegex +'|'+ row['Description']"
   ]
  },
  {
   "cell_type": "code",
   "execution_count": 69,
   "metadata": {},
   "outputs": [
    {
     "data": {
      "text/plain": [
       "'Graphite Stick Pencils – Black – b2|Graphite Stick Pencils – Red – b2'"
      ]
     },
     "execution_count": 69,
     "metadata": {},
     "output_type": "execute_result"
    }
   ],
   "source": [
    "QuoteRegex"
   ]
  },
  {
   "cell_type": "code",
   "execution_count": 70,
   "metadata": {},
   "outputs": [],
   "source": [
    "Output_df = pd.DataFrame(columns=['Supplier Name', 'QuoteID', 'Item Name','Quote Sent'])\n"
   ]
  },
  {
   "cell_type": "code",
   "execution_count": 84,
   "metadata": {},
   "outputs": [
    {
     "data": {
      "text/html": [
       "<div>\n",
       "<style scoped>\n",
       "    .dataframe tbody tr th:only-of-type {\n",
       "        vertical-align: middle;\n",
       "    }\n",
       "\n",
       "    .dataframe tbody tr th {\n",
       "        vertical-align: top;\n",
       "    }\n",
       "\n",
       "    .dataframe thead th {\n",
       "        text-align: right;\n",
       "    }\n",
       "</style>\n",
       "<table border=\"1\" class=\"dataframe\">\n",
       "  <thead>\n",
       "    <tr style=\"text-align: right;\">\n",
       "      <th></th>\n",
       "      <th>Supplier Name</th>\n",
       "      <th>QuoteID</th>\n",
       "      <th>Item Name</th>\n",
       "      <th>Quote Sent</th>\n",
       "    </tr>\n",
       "  </thead>\n",
       "  <tbody>\n",
       "  </tbody>\n",
       "</table>\n",
       "</div>"
      ],
      "text/plain": [
       "Empty DataFrame\n",
       "Columns: [Supplier Name, QuoteID, Item Name, Quote Sent]\n",
       "Index: []"
      ]
     },
     "execution_count": 84,
     "metadata": {},
     "output_type": "execute_result"
    }
   ],
   "source": [
    "Output_df"
   ]
  },
  {
   "cell_type": "code",
   "execution_count": 73,
   "metadata": {},
   "outputs": [],
   "source": [
    "doc2=nlp(MyFile_STR.rsplit('Shailendra Varma Sagi <shailu.codepixer@outlook.com>')[0])"
   ]
  },
  {
   "cell_type": "code",
   "execution_count": 75,
   "metadata": {},
   "outputs": [
    {
     "name": "stdout",
     "output_type": "stream",
     "text": [
      "Thanks for your note – appreciated. \n",
      "\n",
      "\n",
      "next sen\n",
      "We don’t have the Graphite Stick Pencils – however the following are available and the costs are:\n",
      "\n",
      "\n",
      "\n",
      "\n",
      "\n",
      "next sen\n",
      "Graphite Stick Pencils – Red – b2 – 1500 Numbers - $3000\n",
      "\n",
      "\n",
      "Graphite Stick Pencils 0 3 0 22 PERSON\n",
      "1500 8 9 36 40 CARDINAL\n",
      "3000 12 13 52 56 MONEY\n",
      "next sen\n",
      "Charcoal Pencils – Black – 2500 - $3000\n",
      "\n",
      "\n",
      "\n",
      "\n",
      "\n",
      "Charcoal Pencils 0 2 0 16 ORG\n",
      "2500 - $3000 5 9 27 39 MONEY\n",
      "next sen\n",
      "Looking forward to hearing back from you.\n",
      "\n",
      "\n",
      "next sen\n",
      "Thanks for your business\n",
      "\n",
      "\n",
      "\n",
      "\n",
      "\n",
      "\n",
      "\n",
      "next sen\n",
      "Regards,\n",
      "\n",
      "\n",
      "\t\n",
      "\n",
      "next sen\n",
      "Abhijith S M\n",
      "\n",
      "\t\n",
      "\t\n",
      "\n",
      "Abhijith S M 0 3 0 12 PERSON\n",
      "next sen\n",
      "abhijithsm94@outlook.com\n",
      "\n",
      "next sen\n",
      "Phone: + 91 - 9940243959\n",
      "\n",
      "91 - 9940243959 3 6 9 24 DATE\n",
      "next sen\n",
      "1502 Vaikund Sundaram, Vendrasi Amman Kovil Street, Karappakam, Chennai, Tamil Nadu 60009, India\n",
      "\t\n",
      " \n",
      "1502 0 1 0 4 CARDINAL\n",
      "Vaikund Sundaram 1 3 5 21 PERSON\n",
      "Vendrasi 4 5 23 31 ORG\n",
      "Karappakam 9 10 52 62 GPE\n",
      "India 17 18 91 96 GPE\n",
      "next sen\n",
      "<https://twitter.com/ABHIJITH_SM>    <https://www.linkedin.com/in/abhijith-sm-723392184/>   <https://codetwocdn.azureedge.net/images/mail-signatures/generator/abstract-green/fb.png>  <https://www.youtube.com/user/CodeTwoChannel>  \n",
      "\t\n",
      " <https://codetwocdn.azureedge.net/images/mail-signatures/generator/abstract-green/pic-2.png> \t\n",
      "\n",
      "\t\n",
      "\n",
      "________________________________\n",
      "\n",
      "\n",
      "next sen\n",
      "From:\n",
      "next sen\n"
     ]
    }
   ],
   "source": [
    "for sent in doc2.sents:\n",
    "    print(sent.text)\n",
    "    \n",
    "    for ent in nlp(sent.text).ents:\n",
    "        print(ent.text, ent.start, ent.end, ent.start_char, ent.end_char, ent.label_)\n",
    "        \n",
    "    print('next sen')"
   ]
  },
  {
   "cell_type": "code",
   "execution_count": 83,
   "metadata": {},
   "outputs": [
    {
     "name": "stdout",
     "output_type": "stream",
     "text": [
      "Thanks for your note – appreciated. \n",
      "\n",
      "\n",
      " No QuoteRegex Next Sentence Please\n",
      "\n",
      "We don’t have the Graphite Stick Pencils – however the following are available and the costs are:\n",
      "\n",
      "\n",
      "\n",
      "\n",
      "\n",
      " No QuoteRegex Next Sentence Please\n",
      "\n",
      "[3000]\n",
      "Charcoal Pencils – Black – 2500 - $3000\n",
      "\n",
      "\n",
      "\n",
      "\n",
      "\n",
      " No QuoteRegex Next Sentence Please\n",
      "\n",
      "Looking forward to hearing back from you.\n",
      "\n",
      "\n",
      " No QuoteRegex Next Sentence Please\n",
      "\n",
      "Thanks for your business\n",
      "\n",
      "\n",
      "\n",
      "\n",
      "\n",
      "\n",
      "\n",
      " No QuoteRegex Next Sentence Please\n",
      "\n",
      "Regards,\n",
      "\n",
      "\n",
      "\t\n",
      "\n",
      " No QuoteRegex Next Sentence Please\n",
      "\n",
      "Abhijith S M\n",
      "\n",
      "\t\n",
      "\t\n",
      "\n",
      " No QuoteRegex Next Sentence Please\n",
      "\n",
      "abhijithsm94@outlook.com\n",
      "\n",
      " No QuoteRegex Next Sentence Please\n",
      "\n",
      "Phone: + 91 - 9940243959\n",
      "\n",
      " No QuoteRegex Next Sentence Please\n",
      "\n",
      "1502 Vaikund Sundaram, Vendrasi Amman Kovil Street, Karappakam, Chennai, Tamil Nadu 60009, India\n",
      "\t\n",
      " \n",
      " No QuoteRegex Next Sentence Please\n",
      "\n",
      "<https://twitter.com/ABHIJITH_SM>    <https://www.linkedin.com/in/abhijith-sm-723392184/>   <https://codetwocdn.azureedge.net/images/mail-signatures/generator/abstract-green/fb.png>  <https://www.youtube.com/user/CodeTwoChannel>  \n",
      "\t\n",
      " <https://codetwocdn.azureedge.net/images/mail-signatures/generator/abstract-green/pic-2.png> \t\n",
      "\n",
      "\t\n",
      "\n",
      "________________________________\n",
      "\n",
      "\n",
      " No QuoteRegex Next Sentence Please\n",
      "\n",
      "From:\n",
      " No QuoteRegex Next Sentence Please\n",
      "\n"
     ]
    },
    {
     "data": {
      "text/html": [
       "<div>\n",
       "<style scoped>\n",
       "    .dataframe tbody tr th:only-of-type {\n",
       "        vertical-align: middle;\n",
       "    }\n",
       "\n",
       "    .dataframe tbody tr th {\n",
       "        vertical-align: top;\n",
       "    }\n",
       "\n",
       "    .dataframe thead th {\n",
       "        text-align: right;\n",
       "    }\n",
       "</style>\n",
       "<table border=\"1\" class=\"dataframe\">\n",
       "  <thead>\n",
       "    <tr style=\"text-align: right;\">\n",
       "      <th></th>\n",
       "      <th>Supplier Name</th>\n",
       "      <th>QuoteID</th>\n",
       "      <th>Item Name</th>\n",
       "      <th>Quote Sent</th>\n",
       "    </tr>\n",
       "  </thead>\n",
       "  <tbody>\n",
       "    <tr>\n",
       "      <td>0</td>\n",
       "      <td>Abhijith</td>\n",
       "      <td>1101</td>\n",
       "      <td>Graphite Stick Pencils – Red – b2</td>\n",
       "      <td>$3000</td>\n",
       "    </tr>\n",
       "    <tr>\n",
       "      <td>1</td>\n",
       "      <td>Abhijith</td>\n",
       "      <td>1101</td>\n",
       "      <td>Graphite Stick Pencils – Red – b2</td>\n",
       "      <td>$3000</td>\n",
       "    </tr>\n",
       "    <tr>\n",
       "      <td>2</td>\n",
       "      <td>Abhijith</td>\n",
       "      <td>1101</td>\n",
       "      <td>Graphite Stick Pencils – Red – b2</td>\n",
       "      <td>$3000</td>\n",
       "    </tr>\n",
       "    <tr>\n",
       "      <td>3</td>\n",
       "      <td>Abhijith</td>\n",
       "      <td>1101</td>\n",
       "      <td>Graphite Stick Pencils – Red – b2</td>\n",
       "      <td>$3000</td>\n",
       "    </tr>\n",
       "  </tbody>\n",
       "</table>\n",
       "</div>"
      ],
      "text/plain": [
       "  Supplier Name QuoteID                          Item Name Quote Sent\n",
       "0      Abhijith    1101  Graphite Stick Pencils – Red – b2      $3000\n",
       "1      Abhijith    1101  Graphite Stick Pencils – Red – b2      $3000\n",
       "2      Abhijith    1101  Graphite Stick Pencils – Red – b2      $3000\n",
       "3      Abhijith    1101  Graphite Stick Pencils – Red – b2      $3000"
      ]
     },
     "execution_count": 83,
     "metadata": {},
     "output_type": "execute_result"
    }
   ],
   "source": [
    "for sent in doc2.sents:\n",
    "    #print(re.findall(QuoteRegex,sent.text))\n",
    "    if len(re.findall(QuoteRegex,sent.text))==0 and sent.text !='\\n' :\n",
    "        print(sent.text)\n",
    "        print(\" No QuoteRegex Next Sentence Please\\n\")\n",
    "    else:\n",
    "        if len(re.findall(QuoteRegex,sent.text))==1:\n",
    "            Money_list=[ent for ent in nlp(sent.text).ents if ent.label_ == 'MONEY']\n",
    "            print(Money_list)\n",
    "            if len(re.findall(r'[£,$][1-9][\\.\\d]*(,\\d+)?',sent.text))==1:\n",
    "                if re.search(r'[£,$][1-9][\\.\\d]*(,\\d+)?',sent.text).group()[-1]=='.':\n",
    "                    Quote_sent=re.search(r'[£,$][1-9][\\.\\d]*(,\\d+)?',sent.text).group()[0:-1]\n",
    "                else:\n",
    "                    Quote_sent=re.search(r'[£,$][1-9][\\.\\d]*(,\\d+)?',sent.text).group()\n",
    "            elif len(Money_list)>=1:\n",
    "                if len(Money_list)==1:\n",
    "                    for ent in nlp(sent.text).ents:\n",
    "                        if len(re.findall(r'[1-9][\\.\\d]*(,\\d+)?',ent.text))==1:\n",
    "                            if re.search(r'[1-9][\\.\\d]*(,\\d+)?',ent.text).group()[-1]=='.':\n",
    "                                Quote_sent=re.search(r'[1-9][\\.\\d]*(,\\d+)?',sent.text).group()[0:-1]\n",
    "                            else:\n",
    "                                Quote_sent=re.search(r'[1-9][\\.\\d]*(,\\d+)?',sent.text).group()\n",
    "                        else:\n",
    "                            print('Unable to find actual money in money entity')\n",
    "                else:\n",
    "                    print(\"To money eqts in sentence\")\n",
    "            else:\n",
    "                print('Unable to find money in sentence')\n",
    "                \n",
    "\n",
    "            new_row = {'Supplier Name':supplier, 'QuoteID':Quote, 'Item Name':re.findall(QuoteRegex,sent.text)[0],'Quote Sent':Quote_sent}\n",
    "            Output_df=Output_df.append(new_row,ignore_index=True)\n",
    "                    #print(re.findall(QuoteRegex,sent.text)[0]+'     '+ re.search(r'[£,$][1-9][\\.\\d]*(,\\d+)?',sent.text).group())\n",
    "        else:\n",
    "            print('To many item names in a sentence')\n",
    "Output_df"
   ]
  },
  {
   "cell_type": "code",
   "execution_count": 33,
   "metadata": {},
   "outputs": [],
   "source": [
    "Output_df.to_excel(writer, index=False)\n",
    "Output_df.to_excel(writer, startrow=len(Output_df)+2, index=False)\n",
    "writer.save()"
   ]
  },
  {
   "cell_type": "code",
   "execution_count": 68,
   "metadata": {},
   "outputs": [
    {
     "ename": "TypeError",
     "evalue": "'generator' object is not subscriptable",
     "output_type": "error",
     "traceback": [
      "\u001b[1;31m---------------------------------------------------------------------------\u001b[0m",
      "\u001b[1;31mTypeError\u001b[0m                                 Traceback (most recent call last)",
      "\u001b[1;32m<ipython-input-68-1d1d1cca8c6d>\u001b[0m in \u001b[0;36m<module>\u001b[1;34m\u001b[0m\n\u001b[1;32m----> 1\u001b[1;33m \u001b[0mdoc2\u001b[0m\u001b[1;33m.\u001b[0m\u001b[0msents\u001b[0m\u001b[1;33m[\u001b[0m\u001b[1;36m1\u001b[0m\u001b[1;33m]\u001b[0m\u001b[1;33m.\u001b[0m\u001b[0mtext\u001b[0m\u001b[1;33m\u001b[0m\u001b[1;33m\u001b[0m\u001b[0m\n\u001b[0m",
      "\u001b[1;31mTypeError\u001b[0m: 'generator' object is not subscriptable"
     ]
    }
   ],
   "source": [
    "doc2.sents[1].text\n"
   ]
  },
  {
   "cell_type": "code",
   "execution_count": null,
   "metadata": {},
   "outputs": [],
   "source": []
  }
 ],
 "metadata": {
  "kernelspec": {
   "display_name": "Python 3",
   "language": "python",
   "name": "python3"
  },
  "language_info": {
   "codemirror_mode": {
    "name": "ipython",
    "version": 3
   },
   "file_extension": ".py",
   "mimetype": "text/x-python",
   "name": "python",
   "nbconvert_exporter": "python",
   "pygments_lexer": "ipython3",
   "version": "3.7.4"
  }
 },
 "nbformat": 4,
 "nbformat_minor": 2
}
